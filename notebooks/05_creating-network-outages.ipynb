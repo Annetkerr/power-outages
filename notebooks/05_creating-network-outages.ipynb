{
 "cells": [
  {
   "cell_type": "markdown",
   "metadata": {},
   "source": [
    "# Network Diagram of Twitter Users During Power Outages"
   ]
  },
  {
   "cell_type": "markdown",
   "metadata": {},
   "source": [
    "> Author: [Yalim Demirkesen](github.com/demirkeseny)\n",
    "\n",
    "Packages used:\n",
    "- pandas 0.23.4\n",
    "- matplotlib 3.0.2\n",
    "- regex 2018.11.22\n",
    "- string 0.1.2\n",
    "- numpy 1.15.4\n",
    "- networkx 2.2\n",
    "- bokeh 1.0.1\n",
    "\n",
    "Resources: \n",
    "\n",
    "- https://python-graph-gallery.com/network-chart/\n",
    "- https://networkx.github.io/documentation/stable/reference/drawing.html#\n",
    "- https://www.rapidtables.com/web/color/RGB_Color.html#color-table\n",
    "- https://bokeh.pydata.org/en/latest/docs/user_guide/examples/graph_node_and_edge_attributes.html\n",
    "\n",
    "In this notebook, I analyzed the interactions between the twitter users in and outside of the power outage times. "
   ]
  },
  {
   "cell_type": "code",
   "execution_count": 1,
   "metadata": {},
   "outputs": [],
   "source": [
    "%matplotlib inline"
   ]
  },
  {
   "cell_type": "code",
   "execution_count": 2,
   "metadata": {},
   "outputs": [],
   "source": [
    "# Necessary libraries\n",
    "import pandas as pd\n",
    "import regex as re\n",
    "import string\n",
    "import numpy as np"
   ]
  },
  {
   "cell_type": "code",
   "execution_count": 3,
   "metadata": {},
   "outputs": [],
   "source": [
    "# Downloading the dataset:\n",
    "tweets = pd.read_csv('./data/combined_tweets_outages.csv')"
   ]
  },
  {
   "cell_type": "code",
   "execution_count": 4,
   "metadata": {},
   "outputs": [],
   "source": [
    "# Changing the names of the columns to understand from which \n",
    "# account the tweet comes from and to where it goes.\n",
    "tweets = tweets.rename(index=str, columns={'user':'from'})"
   ]
  },
  {
   "cell_type": "code",
   "execution_count": 5,
   "metadata": {},
   "outputs": [],
   "source": [
    "# Creating an empty 'to' column to indicate the destinations of the nodes:\n",
    "tweets['to'] = ''"
   ]
  },
  {
   "cell_type": "code",
   "execution_count": 6,
   "metadata": {},
   "outputs": [],
   "source": [
    "# Reorganizing the columns according to the column names\n",
    "tweets = tweets[['timestamp', 'id', 'text', 'from', 'to', 'outage' ,'likes', 'replies', 'retweets', 'query']]"
   ]
  },
  {
   "cell_type": "code",
   "execution_count": 7,
   "metadata": {},
   "outputs": [
    {
     "data": {
      "text/html": [
       "<div>\n",
       "<style scoped>\n",
       "    .dataframe tbody tr th:only-of-type {\n",
       "        vertical-align: middle;\n",
       "    }\n",
       "\n",
       "    .dataframe tbody tr th {\n",
       "        vertical-align: top;\n",
       "    }\n",
       "\n",
       "    .dataframe thead th {\n",
       "        text-align: right;\n",
       "    }\n",
       "</style>\n",
       "<table border=\"1\" class=\"dataframe\">\n",
       "  <thead>\n",
       "    <tr style=\"text-align: right;\">\n",
       "      <th></th>\n",
       "      <th>timestamp</th>\n",
       "      <th>id</th>\n",
       "      <th>text</th>\n",
       "      <th>from</th>\n",
       "      <th>to</th>\n",
       "      <th>outage</th>\n",
       "      <th>likes</th>\n",
       "      <th>replies</th>\n",
       "      <th>retweets</th>\n",
       "      <th>query</th>\n",
       "    </tr>\n",
       "  </thead>\n",
       "  <tbody>\n",
       "    <tr>\n",
       "      <th>0</th>\n",
       "      <td>2012-11-01 23:50:22</td>\n",
       "      <td>264152432282578945</td>\n",
       "      <td>Tom May, CEO of Northeast Utilities, the paren...</td>\n",
       "      <td>EversourceMA</td>\n",
       "      <td></td>\n",
       "      <td>1</td>\n",
       "      <td>1</td>\n",
       "      <td>1.0</td>\n",
       "      <td>3</td>\n",
       "      <td>EversourceMA OR EversourceNH OR VelcoVT OR nat...</td>\n",
       "    </tr>\n",
       "    <tr>\n",
       "      <th>1</th>\n",
       "      <td>2012-11-01 23:45:13</td>\n",
       "      <td>264151136792109056</td>\n",
       "      <td>@NYGovCuomo @lipanews @nationalgridus @nyseand...</td>\n",
       "      <td>readyforthenet</td>\n",
       "      <td></td>\n",
       "      <td>1</td>\n",
       "      <td>0</td>\n",
       "      <td>0.0</td>\n",
       "      <td>0</td>\n",
       "      <td>EversourceMA OR EversourceNH OR VelcoVT OR nat...</td>\n",
       "    </tr>\n",
       "    <tr>\n",
       "      <th>2</th>\n",
       "      <td>2012-11-01 23:34:44</td>\n",
       "      <td>264148498352590849</td>\n",
       "      <td>Some amazing video from the Wareham microburst...</td>\n",
       "      <td>EversourceMA</td>\n",
       "      <td></td>\n",
       "      <td>1</td>\n",
       "      <td>1</td>\n",
       "      <td>0.0</td>\n",
       "      <td>1</td>\n",
       "      <td>EversourceMA OR EversourceNH OR VelcoVT OR nat...</td>\n",
       "    </tr>\n",
       "    <tr>\n",
       "      <th>3</th>\n",
       "      <td>2012-11-01 23:34:20</td>\n",
       "      <td>264148399190851584</td>\n",
       "      <td>@nationalgridus Call me if you need some help ...</td>\n",
       "      <td>sparky1000</td>\n",
       "      <td></td>\n",
       "      <td>1</td>\n",
       "      <td>0</td>\n",
       "      <td>0.0</td>\n",
       "      <td>0</td>\n",
       "      <td>EversourceMA OR EversourceNH OR VelcoVT OR nat...</td>\n",
       "    </tr>\n",
       "    <tr>\n",
       "      <th>4</th>\n",
       "      <td>2012-11-01 23:31:56</td>\n",
       "      <td>264147793147490304</td>\n",
       "      <td>Current PSNH statewide w/o power: 885. We're d...</td>\n",
       "      <td>EversourceNH</td>\n",
       "      <td></td>\n",
       "      <td>1</td>\n",
       "      <td>0</td>\n",
       "      <td>1.0</td>\n",
       "      <td>8</td>\n",
       "      <td>EversourceMA OR EversourceNH OR VelcoVT OR nat...</td>\n",
       "    </tr>\n",
       "  </tbody>\n",
       "</table>\n",
       "</div>"
      ],
      "text/plain": [
       "             timestamp                  id  \\\n",
       "0  2012-11-01 23:50:22  264152432282578945   \n",
       "1  2012-11-01 23:45:13  264151136792109056   \n",
       "2  2012-11-01 23:34:44  264148498352590849   \n",
       "3  2012-11-01 23:34:20  264148399190851584   \n",
       "4  2012-11-01 23:31:56  264147793147490304   \n",
       "\n",
       "                                                text            from to  \\\n",
       "0  Tom May, CEO of Northeast Utilities, the paren...    EversourceMA      \n",
       "1  @NYGovCuomo @lipanews @nationalgridus @nyseand...  readyforthenet      \n",
       "2  Some amazing video from the Wareham microburst...    EversourceMA      \n",
       "3  @nationalgridus Call me if you need some help ...      sparky1000      \n",
       "4  Current PSNH statewide w/o power: 885. We're d...    EversourceNH      \n",
       "\n",
       "   outage  likes  replies  retweets  \\\n",
       "0       1      1      1.0         3   \n",
       "1       1      0      0.0         0   \n",
       "2       1      1      0.0         1   \n",
       "3       1      0      0.0         0   \n",
       "4       1      0      1.0         8   \n",
       "\n",
       "                                               query  \n",
       "0  EversourceMA OR EversourceNH OR VelcoVT OR nat...  \n",
       "1  EversourceMA OR EversourceNH OR VelcoVT OR nat...  \n",
       "2  EversourceMA OR EversourceNH OR VelcoVT OR nat...  \n",
       "3  EversourceMA OR EversourceNH OR VelcoVT OR nat...  \n",
       "4  EversourceMA OR EversourceNH OR VelcoVT OR nat...  "
      ]
     },
     "execution_count": 7,
     "metadata": {},
     "output_type": "execute_result"
    }
   ],
   "source": [
    "tweets.head()"
   ]
  },
  {
   "cell_type": "code",
   "execution_count": 8,
   "metadata": {},
   "outputs": [],
   "source": [
    "# Since we will use the tweet post to understand the destination, I copied to that to\n",
    "# 'to' column which will be replaced with the destination\n",
    "tweets.to = tweets.text"
   ]
  },
  {
   "cell_type": "code",
   "execution_count": 9,
   "metadata": {},
   "outputs": [],
   "source": [
    "# An empty list is created by appending all the posts to a single list\n",
    "# at the end we have a big list of lists\n",
    "tweets_lst = []\n",
    "for i in range(0,len(tweets)):\n",
    "    somelst=[]\n",
    "    somelst.append(tweets['to'][i])\n",
    "    tweets_lst.append(somelst)    "
   ]
  },
  {
   "cell_type": "code",
   "execution_count": 10,
   "metadata": {},
   "outputs": [],
   "source": [
    "# Since in the Twitter, you need to use '@' to mention some other account,\n",
    "# if we can grab all the string having that symbol, we can understand the destinations\n",
    "\n",
    "import itertools\n",
    "\n",
    "# An empty list is created to append the destionations\n",
    "# This list is updated for each row and assigned to the 'to' column for that specific row.\n",
    "mentions = []\n",
    "\n",
    "for j in range(0, len(tweets_lst)):\n",
    "\n",
    "    nested_list = tweets_lst[j:(j+1)] # nested list is the single tweet as a single list in a list\n",
    "    flat_list = list(itertools.chain.from_iterable(nested_list)) # converting that list of list into a list of single text\n",
    "    nested_words = [i.split(' ') for i in flat_list] # seperating all the words one by one in a \n",
    "                                                     # list and then saving them in a list\n",
    "    words = list(itertools.chain.from_iterable(nested_words)) # converting them to a single list of words.\n",
    "    \n",
    "    # wish_lst is for words that start with '@'\n",
    "    for i in range(0,len(words)): # iterate through all the words in the list\n",
    "        # empty list is created\n",
    "        wish_lst = [] \n",
    "        \n",
    "        for word in words: # for each word\n",
    "            if (len(word) > 0): # just to be safe, wanted to check the length\n",
    "                if (word[0] == '@'): # if '@' is the first letter of the word\n",
    "                    wish_lst.append(word[1:]) # if yes, append that to the wish_lst list\n",
    "                else:\n",
    "                    continue\n",
    "    \n",
    "    # at the end all of these words must be added to the mentions list. This will be placed in the mentions column.\n",
    "    mentions.append(wish_lst)"
   ]
  },
  {
   "cell_type": "code",
   "execution_count": 11,
   "metadata": {},
   "outputs": [
    {
     "data": {
      "text/plain": [
       "[[],\n",
       " ['NYGovCuomo', 'lipanews', 'nationalgridus', 'nyseandg'],\n",
       " [],\n",
       " ['nationalgridus'],\n",
       " []]"
      ]
     },
     "execution_count": 11,
     "metadata": {},
     "output_type": "execute_result"
    }
   ],
   "source": [
    "# As it can be seen below, there is no destination in the first node but four in the second one.\n",
    "mentions[0:5]"
   ]
  },
  {
   "cell_type": "code",
   "execution_count": 12,
   "metadata": {},
   "outputs": [],
   "source": [
    "# column is set to the list\n",
    "tweets['to'] = mentions"
   ]
  },
  {
   "cell_type": "code",
   "execution_count": 13,
   "metadata": {},
   "outputs": [
    {
     "data": {
      "text/html": [
       "<div>\n",
       "<style scoped>\n",
       "    .dataframe tbody tr th:only-of-type {\n",
       "        vertical-align: middle;\n",
       "    }\n",
       "\n",
       "    .dataframe tbody tr th {\n",
       "        vertical-align: top;\n",
       "    }\n",
       "\n",
       "    .dataframe thead th {\n",
       "        text-align: right;\n",
       "    }\n",
       "</style>\n",
       "<table border=\"1\" class=\"dataframe\">\n",
       "  <thead>\n",
       "    <tr style=\"text-align: right;\">\n",
       "      <th></th>\n",
       "      <th>timestamp</th>\n",
       "      <th>id</th>\n",
       "      <th>text</th>\n",
       "      <th>from</th>\n",
       "      <th>to</th>\n",
       "      <th>outage</th>\n",
       "      <th>likes</th>\n",
       "      <th>replies</th>\n",
       "      <th>retweets</th>\n",
       "      <th>query</th>\n",
       "    </tr>\n",
       "  </thead>\n",
       "  <tbody>\n",
       "    <tr>\n",
       "      <th>0</th>\n",
       "      <td>2012-11-01 23:50:22</td>\n",
       "      <td>264152432282578945</td>\n",
       "      <td>Tom May, CEO of Northeast Utilities, the paren...</td>\n",
       "      <td>EversourceMA</td>\n",
       "      <td>[]</td>\n",
       "      <td>1</td>\n",
       "      <td>1</td>\n",
       "      <td>1.0</td>\n",
       "      <td>3</td>\n",
       "      <td>EversourceMA OR EversourceNH OR VelcoVT OR nat...</td>\n",
       "    </tr>\n",
       "    <tr>\n",
       "      <th>1</th>\n",
       "      <td>2012-11-01 23:45:13</td>\n",
       "      <td>264151136792109056</td>\n",
       "      <td>@NYGovCuomo @lipanews @nationalgridus @nyseand...</td>\n",
       "      <td>readyforthenet</td>\n",
       "      <td>[NYGovCuomo, lipanews, nationalgridus, nyseandg]</td>\n",
       "      <td>1</td>\n",
       "      <td>0</td>\n",
       "      <td>0.0</td>\n",
       "      <td>0</td>\n",
       "      <td>EversourceMA OR EversourceNH OR VelcoVT OR nat...</td>\n",
       "    </tr>\n",
       "    <tr>\n",
       "      <th>2</th>\n",
       "      <td>2012-11-01 23:34:44</td>\n",
       "      <td>264148498352590849</td>\n",
       "      <td>Some amazing video from the Wareham microburst...</td>\n",
       "      <td>EversourceMA</td>\n",
       "      <td>[]</td>\n",
       "      <td>1</td>\n",
       "      <td>1</td>\n",
       "      <td>0.0</td>\n",
       "      <td>1</td>\n",
       "      <td>EversourceMA OR EversourceNH OR VelcoVT OR nat...</td>\n",
       "    </tr>\n",
       "    <tr>\n",
       "      <th>3</th>\n",
       "      <td>2012-11-01 23:34:20</td>\n",
       "      <td>264148399190851584</td>\n",
       "      <td>@nationalgridus Call me if you need some help ...</td>\n",
       "      <td>sparky1000</td>\n",
       "      <td>[nationalgridus]</td>\n",
       "      <td>1</td>\n",
       "      <td>0</td>\n",
       "      <td>0.0</td>\n",
       "      <td>0</td>\n",
       "      <td>EversourceMA OR EversourceNH OR VelcoVT OR nat...</td>\n",
       "    </tr>\n",
       "    <tr>\n",
       "      <th>4</th>\n",
       "      <td>2012-11-01 23:31:56</td>\n",
       "      <td>264147793147490304</td>\n",
       "      <td>Current PSNH statewide w/o power: 885. We're d...</td>\n",
       "      <td>EversourceNH</td>\n",
       "      <td>[]</td>\n",
       "      <td>1</td>\n",
       "      <td>0</td>\n",
       "      <td>1.0</td>\n",
       "      <td>8</td>\n",
       "      <td>EversourceMA OR EversourceNH OR VelcoVT OR nat...</td>\n",
       "    </tr>\n",
       "  </tbody>\n",
       "</table>\n",
       "</div>"
      ],
      "text/plain": [
       "             timestamp                  id  \\\n",
       "0  2012-11-01 23:50:22  264152432282578945   \n",
       "1  2012-11-01 23:45:13  264151136792109056   \n",
       "2  2012-11-01 23:34:44  264148498352590849   \n",
       "3  2012-11-01 23:34:20  264148399190851584   \n",
       "4  2012-11-01 23:31:56  264147793147490304   \n",
       "\n",
       "                                                text            from  \\\n",
       "0  Tom May, CEO of Northeast Utilities, the paren...    EversourceMA   \n",
       "1  @NYGovCuomo @lipanews @nationalgridus @nyseand...  readyforthenet   \n",
       "2  Some amazing video from the Wareham microburst...    EversourceMA   \n",
       "3  @nationalgridus Call me if you need some help ...      sparky1000   \n",
       "4  Current PSNH statewide w/o power: 885. We're d...    EversourceNH   \n",
       "\n",
       "                                                 to  outage  likes  replies  \\\n",
       "0                                                []       1      1      1.0   \n",
       "1  [NYGovCuomo, lipanews, nationalgridus, nyseandg]       1      0      0.0   \n",
       "2                                                []       1      1      0.0   \n",
       "3                                  [nationalgridus]       1      0      0.0   \n",
       "4                                                []       1      0      1.0   \n",
       "\n",
       "   retweets                                              query  \n",
       "0         3  EversourceMA OR EversourceNH OR VelcoVT OR nat...  \n",
       "1         0  EversourceMA OR EversourceNH OR VelcoVT OR nat...  \n",
       "2         1  EversourceMA OR EversourceNH OR VelcoVT OR nat...  \n",
       "3         0  EversourceMA OR EversourceNH OR VelcoVT OR nat...  \n",
       "4         8  EversourceMA OR EversourceNH OR VelcoVT OR nat...  "
      ]
     },
     "execution_count": 13,
     "metadata": {},
     "output_type": "execute_result"
    }
   ],
   "source": [
    "tweets.head()"
   ]
  },
  {
   "cell_type": "code",
   "execution_count": 14,
   "metadata": {},
   "outputs": [
    {
     "name": "stderr",
     "output_type": "stream",
     "text": [
      "C:\\Users\\demir\\Anaconda3\\lib\\site-packages\\ipykernel_launcher.py:4: SettingWithCopyWarning: \n",
      "A value is trying to be set on a copy of a slice from a DataFrame\n",
      "\n",
      "See the caveats in the documentation: http://pandas.pydata.org/pandas-docs/stable/indexing.html#indexing-view-versus-copy\n",
      "  after removing the cwd from sys.path.\n"
     ]
    }
   ],
   "source": [
    "# empty ones are replaced with np.nan\n",
    "for i in range(0,len(tweets)):\n",
    "    if tweets['to'][i] == []:\n",
    "        tweets['to'][i] = np.nan"
   ]
  },
  {
   "cell_type": "code",
   "execution_count": 15,
   "metadata": {},
   "outputs": [],
   "source": [
    "# drop na's because they are not creating any traffic\n",
    "tweets_sub = tweets[['timestamp','id','from','to','outage']].dropna()"
   ]
  },
  {
   "cell_type": "markdown",
   "metadata": {},
   "source": [
    "# Tweets Sent During an Outage"
   ]
  },
  {
   "cell_type": "code",
   "execution_count": 16,
   "metadata": {},
   "outputs": [],
   "source": [
    "# filter out only the rows where outage is equal to 1.\n",
    "# In other words, the rows that only happened during an outage\n",
    "tweets_sub = tweets_sub[tweets_sub['outage'] == 1]"
   ]
  },
  {
   "cell_type": "code",
   "execution_count": 17,
   "metadata": {},
   "outputs": [
    {
     "data": {
      "text/html": [
       "<div>\n",
       "<style scoped>\n",
       "    .dataframe tbody tr th:only-of-type {\n",
       "        vertical-align: middle;\n",
       "    }\n",
       "\n",
       "    .dataframe tbody tr th {\n",
       "        vertical-align: top;\n",
       "    }\n",
       "\n",
       "    .dataframe thead th {\n",
       "        text-align: right;\n",
       "    }\n",
       "</style>\n",
       "<table border=\"1\" class=\"dataframe\">\n",
       "  <thead>\n",
       "    <tr style=\"text-align: right;\">\n",
       "      <th></th>\n",
       "      <th>timestamp</th>\n",
       "      <th>id</th>\n",
       "      <th>from</th>\n",
       "      <th>to</th>\n",
       "      <th>outage</th>\n",
       "    </tr>\n",
       "  </thead>\n",
       "  <tbody>\n",
       "    <tr>\n",
       "      <th>1</th>\n",
       "      <td>2012-11-01 23:45:13</td>\n",
       "      <td>264151136792109056</td>\n",
       "      <td>readyforthenet</td>\n",
       "      <td>[NYGovCuomo, lipanews, nationalgridus, nyseandg]</td>\n",
       "      <td>1</td>\n",
       "    </tr>\n",
       "    <tr>\n",
       "      <th>3</th>\n",
       "      <td>2012-11-01 23:34:20</td>\n",
       "      <td>264148399190851584</td>\n",
       "      <td>sparky1000</td>\n",
       "      <td>[nationalgridus]</td>\n",
       "      <td>1</td>\n",
       "    </tr>\n",
       "    <tr>\n",
       "      <th>7</th>\n",
       "      <td>2012-11-01 23:29:46</td>\n",
       "      <td>264147250270326786</td>\n",
       "      <td>nationalgridus</td>\n",
       "      <td>[EvanMansolillo]</td>\n",
       "      <td>1</td>\n",
       "    </tr>\n",
       "    <tr>\n",
       "      <th>9</th>\n",
       "      <td>2012-11-01 22:41:50</td>\n",
       "      <td>264135186604769280</td>\n",
       "      <td>drcavanaugh</td>\n",
       "      <td>[nationalgridus]</td>\n",
       "      <td>1</td>\n",
       "    </tr>\n",
       "    <tr>\n",
       "      <th>11</th>\n",
       "      <td>2012-11-01 22:23:59</td>\n",
       "      <td>264130692869398528</td>\n",
       "      <td>PetroleumKings</td>\n",
       "      <td>[nationalgridus]</td>\n",
       "      <td>1</td>\n",
       "    </tr>\n",
       "  </tbody>\n",
       "</table>\n",
       "</div>"
      ],
      "text/plain": [
       "              timestamp                  id            from  \\\n",
       "1   2012-11-01 23:45:13  264151136792109056  readyforthenet   \n",
       "3   2012-11-01 23:34:20  264148399190851584      sparky1000   \n",
       "7   2012-11-01 23:29:46  264147250270326786  nationalgridus   \n",
       "9   2012-11-01 22:41:50  264135186604769280     drcavanaugh   \n",
       "11  2012-11-01 22:23:59  264130692869398528  PetroleumKings   \n",
       "\n",
       "                                                  to  outage  \n",
       "1   [NYGovCuomo, lipanews, nationalgridus, nyseandg]       1  \n",
       "3                                   [nationalgridus]       1  \n",
       "7                                   [EvanMansolillo]       1  \n",
       "9                                   [nationalgridus]       1  \n",
       "11                                  [nationalgridus]       1  "
      ]
     },
     "execution_count": 17,
     "metadata": {},
     "output_type": "execute_result"
    }
   ],
   "source": [
    "tweets_sub.head()"
   ]
  },
  {
   "cell_type": "code",
   "execution_count": 18,
   "metadata": {},
   "outputs": [],
   "source": [
    "# A new data frame is created under the name of network. This data frame displays each \n",
    "# interaction between the nodes but there are duplicates.\n",
    "network = tweets_sub.set_index('from').to.apply(pd.Series).stack().reset_index(level=0).rename(columns={0:'to'})"
   ]
  },
  {
   "cell_type": "code",
   "execution_count": 19,
   "metadata": {},
   "outputs": [],
   "source": [
    "# If there is any empty cell, we replaced them with np.nan so that the na's can be dropped.\n",
    "network['from'] = network['from'].map(lambda cell: np.nan if cell == '' else cell)\n",
    "network['to'] = network['to'].map(lambda cell: np.nan if cell == '' else cell)"
   ]
  },
  {
   "cell_type": "code",
   "execution_count": 20,
   "metadata": {
    "scrolled": true
   },
   "outputs": [
    {
     "data": {
      "text/plain": [
       "from      0\n",
       "to      363\n",
       "dtype: int64"
      ]
     },
     "execution_count": 20,
     "metadata": {},
     "output_type": "execute_result"
    }
   ],
   "source": [
    "network.isnull().sum()"
   ]
  },
  {
   "cell_type": "code",
   "execution_count": 21,
   "metadata": {},
   "outputs": [],
   "source": [
    "network.dropna(inplace = True)"
   ]
  },
  {
   "cell_type": "code",
   "execution_count": 22,
   "metadata": {},
   "outputs": [
    {
     "data": {
      "text/html": [
       "<div>\n",
       "<style scoped>\n",
       "    .dataframe tbody tr th:only-of-type {\n",
       "        vertical-align: middle;\n",
       "    }\n",
       "\n",
       "    .dataframe tbody tr th {\n",
       "        vertical-align: top;\n",
       "    }\n",
       "\n",
       "    .dataframe thead th {\n",
       "        text-align: right;\n",
       "    }\n",
       "</style>\n",
       "<table border=\"1\" class=\"dataframe\">\n",
       "  <thead>\n",
       "    <tr style=\"text-align: right;\">\n",
       "      <th></th>\n",
       "      <th>from</th>\n",
       "      <th>to</th>\n",
       "    </tr>\n",
       "  </thead>\n",
       "  <tbody>\n",
       "    <tr>\n",
       "      <th>0</th>\n",
       "      <td>readyforthenet</td>\n",
       "      <td>NYGovCuomo</td>\n",
       "    </tr>\n",
       "    <tr>\n",
       "      <th>1</th>\n",
       "      <td>readyforthenet</td>\n",
       "      <td>lipanews</td>\n",
       "    </tr>\n",
       "    <tr>\n",
       "      <th>2</th>\n",
       "      <td>readyforthenet</td>\n",
       "      <td>nationalgridus</td>\n",
       "    </tr>\n",
       "    <tr>\n",
       "      <th>3</th>\n",
       "      <td>readyforthenet</td>\n",
       "      <td>nyseandg</td>\n",
       "    </tr>\n",
       "    <tr>\n",
       "      <th>0</th>\n",
       "      <td>sparky1000</td>\n",
       "      <td>nationalgridus</td>\n",
       "    </tr>\n",
       "    <tr>\n",
       "      <th>0</th>\n",
       "      <td>nationalgridus</td>\n",
       "      <td>EvanMansolillo</td>\n",
       "    </tr>\n",
       "    <tr>\n",
       "      <th>0</th>\n",
       "      <td>drcavanaugh</td>\n",
       "      <td>nationalgridus</td>\n",
       "    </tr>\n",
       "    <tr>\n",
       "      <th>0</th>\n",
       "      <td>PetroleumKings</td>\n",
       "      <td>nationalgridus</td>\n",
       "    </tr>\n",
       "    <tr>\n",
       "      <th>0</th>\n",
       "      <td>DiversityWoman</td>\n",
       "      <td>Soledad_OBrien</td>\n",
       "    </tr>\n",
       "    <tr>\n",
       "      <th>1</th>\n",
       "      <td>DiversityWoman</td>\n",
       "      <td>nationalgridus</td>\n",
       "    </tr>\n",
       "  </tbody>\n",
       "</table>\n",
       "</div>"
      ],
      "text/plain": [
       "             from              to\n",
       "0  readyforthenet      NYGovCuomo\n",
       "1  readyforthenet        lipanews\n",
       "2  readyforthenet  nationalgridus\n",
       "3  readyforthenet        nyseandg\n",
       "0      sparky1000  nationalgridus\n",
       "0  nationalgridus  EvanMansolillo\n",
       "0     drcavanaugh  nationalgridus\n",
       "0  PetroleumKings  nationalgridus\n",
       "0  DiversityWoman  Soledad_OBrien\n",
       "1  DiversityWoman  nationalgridus"
      ]
     },
     "execution_count": 22,
     "metadata": {},
     "output_type": "execute_result"
    }
   ],
   "source": [
    "network.head(10)"
   ]
  },
  {
   "cell_type": "code",
   "execution_count": 23,
   "metadata": {
    "scrolled": true
   },
   "outputs": [],
   "source": [
    "# Another issue was the punctuations. For instance there are rows like 'nationalgrid:'\n",
    "# This examples increase the number of nodes although it is an existing node which is referred.\n",
    "network['from'] = network['from'].str.replace(r'[^\\w\\s]+', '')\n",
    "network['to'] = network['to'].str.replace(r'[^\\w\\s]+', '')\n",
    "network.reset_index(inplace = True, drop= True)"
   ]
  },
  {
   "cell_type": "code",
   "execution_count": 24,
   "metadata": {
    "scrolled": true
   },
   "outputs": [
    {
     "data": {
      "text/html": [
       "<div>\n",
       "<style scoped>\n",
       "    .dataframe tbody tr th:only-of-type {\n",
       "        vertical-align: middle;\n",
       "    }\n",
       "\n",
       "    .dataframe tbody tr th {\n",
       "        vertical-align: top;\n",
       "    }\n",
       "\n",
       "    .dataframe thead th {\n",
       "        text-align: right;\n",
       "    }\n",
       "</style>\n",
       "<table border=\"1\" class=\"dataframe\">\n",
       "  <thead>\n",
       "    <tr style=\"text-align: right;\">\n",
       "      <th></th>\n",
       "      <th>from</th>\n",
       "      <th>to</th>\n",
       "    </tr>\n",
       "  </thead>\n",
       "  <tbody>\n",
       "    <tr>\n",
       "      <th>0</th>\n",
       "      <td>readyforthenet</td>\n",
       "      <td>NYGovCuomo</td>\n",
       "    </tr>\n",
       "    <tr>\n",
       "      <th>1</th>\n",
       "      <td>readyforthenet</td>\n",
       "      <td>lipanews</td>\n",
       "    </tr>\n",
       "    <tr>\n",
       "      <th>2</th>\n",
       "      <td>readyforthenet</td>\n",
       "      <td>nationalgridus</td>\n",
       "    </tr>\n",
       "    <tr>\n",
       "      <th>3</th>\n",
       "      <td>readyforthenet</td>\n",
       "      <td>nyseandg</td>\n",
       "    </tr>\n",
       "    <tr>\n",
       "      <th>4</th>\n",
       "      <td>sparky1000</td>\n",
       "      <td>nationalgridus</td>\n",
       "    </tr>\n",
       "  </tbody>\n",
       "</table>\n",
       "</div>"
      ],
      "text/plain": [
       "             from              to\n",
       "0  readyforthenet      NYGovCuomo\n",
       "1  readyforthenet        lipanews\n",
       "2  readyforthenet  nationalgridus\n",
       "3  readyforthenet        nyseandg\n",
       "4      sparky1000  nationalgridus"
      ]
     },
     "execution_count": 24,
     "metadata": {},
     "output_type": "execute_result"
    }
   ],
   "source": [
    "network.head()"
   ]
  },
  {
   "cell_type": "code",
   "execution_count": 25,
   "metadata": {},
   "outputs": [],
   "source": [
    "network['to'] = network['to'].map(lambda cell: np.nan if cell == '' else cell)"
   ]
  },
  {
   "cell_type": "code",
   "execution_count": 26,
   "metadata": {},
   "outputs": [],
   "source": [
    "network.dropna(inplace = True)"
   ]
  },
  {
   "cell_type": "code",
   "execution_count": 27,
   "metadata": {
    "scrolled": true
   },
   "outputs": [
    {
     "data": {
      "text/html": [
       "<div>\n",
       "<style scoped>\n",
       "    .dataframe tbody tr th:only-of-type {\n",
       "        vertical-align: middle;\n",
       "    }\n",
       "\n",
       "    .dataframe tbody tr th {\n",
       "        vertical-align: top;\n",
       "    }\n",
       "\n",
       "    .dataframe thead th {\n",
       "        text-align: right;\n",
       "    }\n",
       "</style>\n",
       "<table border=\"1\" class=\"dataframe\">\n",
       "  <thead>\n",
       "    <tr style=\"text-align: right;\">\n",
       "      <th></th>\n",
       "      <th>from</th>\n",
       "      <th>to</th>\n",
       "    </tr>\n",
       "  </thead>\n",
       "  <tbody>\n",
       "    <tr>\n",
       "      <th>0</th>\n",
       "      <td>readyforthenet</td>\n",
       "      <td>NYGovCuomo</td>\n",
       "    </tr>\n",
       "    <tr>\n",
       "      <th>1</th>\n",
       "      <td>readyforthenet</td>\n",
       "      <td>lipanews</td>\n",
       "    </tr>\n",
       "    <tr>\n",
       "      <th>2</th>\n",
       "      <td>readyforthenet</td>\n",
       "      <td>nationalgridus</td>\n",
       "    </tr>\n",
       "    <tr>\n",
       "      <th>3</th>\n",
       "      <td>readyforthenet</td>\n",
       "      <td>nyseandg</td>\n",
       "    </tr>\n",
       "    <tr>\n",
       "      <th>4</th>\n",
       "      <td>sparky1000</td>\n",
       "      <td>nationalgridus</td>\n",
       "    </tr>\n",
       "  </tbody>\n",
       "</table>\n",
       "</div>"
      ],
      "text/plain": [
       "             from              to\n",
       "0  readyforthenet      NYGovCuomo\n",
       "1  readyforthenet        lipanews\n",
       "2  readyforthenet  nationalgridus\n",
       "3  readyforthenet        nyseandg\n",
       "4      sparky1000  nationalgridus"
      ]
     },
     "execution_count": 27,
     "metadata": {},
     "output_type": "execute_result"
    }
   ],
   "source": [
    "network.head()"
   ]
  },
  {
   "cell_type": "code",
   "execution_count": 28,
   "metadata": {},
   "outputs": [],
   "source": [
    "# In order to visualize the dataframe easier, I ordered the columns alphabetically\n",
    "network.sort_values(by = ['from'], inplace = True)"
   ]
  },
  {
   "cell_type": "code",
   "execution_count": 29,
   "metadata": {},
   "outputs": [],
   "source": [
    "network.sort_values(by = ['to'], inplace = True)"
   ]
  },
  {
   "cell_type": "code",
   "execution_count": 30,
   "metadata": {},
   "outputs": [],
   "source": [
    "# reset the index\n",
    "network.reset_index(inplace=True, drop=True)"
   ]
  },
  {
   "cell_type": "code",
   "execution_count": 31,
   "metadata": {
    "scrolled": true
   },
   "outputs": [
    {
     "data": {
      "text/html": [
       "<div>\n",
       "<style scoped>\n",
       "    .dataframe tbody tr th:only-of-type {\n",
       "        vertical-align: middle;\n",
       "    }\n",
       "\n",
       "    .dataframe tbody tr th {\n",
       "        vertical-align: top;\n",
       "    }\n",
       "\n",
       "    .dataframe thead th {\n",
       "        text-align: right;\n",
       "    }\n",
       "</style>\n",
       "<table border=\"1\" class=\"dataframe\">\n",
       "  <thead>\n",
       "    <tr style=\"text-align: right;\">\n",
       "      <th></th>\n",
       "      <th>from</th>\n",
       "      <th>to</th>\n",
       "    </tr>\n",
       "  </thead>\n",
       "  <tbody>\n",
       "    <tr>\n",
       "      <th>0</th>\n",
       "      <td>AlfredoRequena</td>\n",
       "      <td>01772</td>\n",
       "    </tr>\n",
       "    <tr>\n",
       "      <th>1</th>\n",
       "      <td>BadBel_</td>\n",
       "      <td>0hhhKAY</td>\n",
       "    </tr>\n",
       "    <tr>\n",
       "      <th>2</th>\n",
       "      <td>nationalgridus</td>\n",
       "      <td>0ther</td>\n",
       "    </tr>\n",
       "    <tr>\n",
       "      <th>3</th>\n",
       "      <td>RedDahlia520</td>\n",
       "      <td>10PM</td>\n",
       "    </tr>\n",
       "    <tr>\n",
       "      <th>4</th>\n",
       "      <td>halfpint360</td>\n",
       "      <td>111954</td>\n",
       "    </tr>\n",
       "  </tbody>\n",
       "</table>\n",
       "</div>"
      ],
      "text/plain": [
       "             from       to\n",
       "0  AlfredoRequena    01772\n",
       "1         BadBel_  0hhhKAY\n",
       "2  nationalgridus    0ther\n",
       "3    RedDahlia520     10PM\n",
       "4     halfpint360   111954"
      ]
     },
     "execution_count": 31,
     "metadata": {},
     "output_type": "execute_result"
    }
   ],
   "source": [
    "network.head()"
   ]
  },
  {
   "cell_type": "code",
   "execution_count": 32,
   "metadata": {},
   "outputs": [
    {
     "data": {
      "text/plain": [
       "16103"
      ]
     },
     "execution_count": 32,
     "metadata": {},
     "output_type": "execute_result"
    }
   ],
   "source": [
    "len(network)"
   ]
  },
  {
   "cell_type": "code",
   "execution_count": 33,
   "metadata": {
    "scrolled": false
   },
   "outputs": [
    {
     "data": {
      "text/plain": [
       "9480"
      ]
     },
     "execution_count": 33,
     "metadata": {},
     "output_type": "execute_result"
    }
   ],
   "source": [
    "len(network.drop_duplicates())"
   ]
  },
  {
   "cell_type": "code",
   "execution_count": 34,
   "metadata": {},
   "outputs": [],
   "source": [
    "final_net = network.groupby(network.columns.tolist()).size().reset_index().rename(columns={0:'count'})"
   ]
  },
  {
   "cell_type": "code",
   "execution_count": 35,
   "metadata": {},
   "outputs": [],
   "source": [
    "final_net = final_net.sort_values(by=('count'), ascending=False).reset_index(drop=True)"
   ]
  },
  {
   "cell_type": "code",
   "execution_count": 36,
   "metadata": {},
   "outputs": [
    {
     "data": {
      "text/html": [
       "<div>\n",
       "<style scoped>\n",
       "    .dataframe tbody tr th:only-of-type {\n",
       "        vertical-align: middle;\n",
       "    }\n",
       "\n",
       "    .dataframe tbody tr th {\n",
       "        vertical-align: top;\n",
       "    }\n",
       "\n",
       "    .dataframe thead th {\n",
       "        text-align: right;\n",
       "    }\n",
       "</style>\n",
       "<table border=\"1\" class=\"dataframe\">\n",
       "  <thead>\n",
       "    <tr style=\"text-align: right;\">\n",
       "      <th></th>\n",
       "      <th>from</th>\n",
       "      <th>to</th>\n",
       "      <th>count</th>\n",
       "    </tr>\n",
       "  </thead>\n",
       "  <tbody>\n",
       "    <tr>\n",
       "      <th>0</th>\n",
       "      <td>NGPowerofAction</td>\n",
       "      <td>nationalgridus</td>\n",
       "      <td>101</td>\n",
       "    </tr>\n",
       "    <tr>\n",
       "      <th>1</th>\n",
       "      <td>Breedon</td>\n",
       "      <td>nationalgridus</td>\n",
       "      <td>95</td>\n",
       "    </tr>\n",
       "    <tr>\n",
       "      <th>2</th>\n",
       "      <td>EversourceNH</td>\n",
       "      <td>psnh</td>\n",
       "      <td>88</td>\n",
       "    </tr>\n",
       "    <tr>\n",
       "      <th>3</th>\n",
       "      <td>CodyHopkins</td>\n",
       "      <td>nationalgridus</td>\n",
       "      <td>60</td>\n",
       "    </tr>\n",
       "    <tr>\n",
       "      <th>4</th>\n",
       "      <td>BillericaPD</td>\n",
       "      <td>nationalgridus</td>\n",
       "      <td>53</td>\n",
       "    </tr>\n",
       "    <tr>\n",
       "      <th>5</th>\n",
       "      <td>sprinter4883</td>\n",
       "      <td>nationalgridus</td>\n",
       "      <td>49</td>\n",
       "    </tr>\n",
       "    <tr>\n",
       "      <th>6</th>\n",
       "      <td>wallabywayyy</td>\n",
       "      <td>nationalgridus</td>\n",
       "      <td>40</td>\n",
       "    </tr>\n",
       "    <tr>\n",
       "      <th>7</th>\n",
       "      <td>nationalgridus</td>\n",
       "      <td>ENERGYSTAR</td>\n",
       "      <td>37</td>\n",
       "    </tr>\n",
       "    <tr>\n",
       "      <th>8</th>\n",
       "      <td>national_grid</td>\n",
       "      <td>nationalgriduk</td>\n",
       "      <td>35</td>\n",
       "    </tr>\n",
       "    <tr>\n",
       "      <th>9</th>\n",
       "      <td>national_grid</td>\n",
       "      <td>nationalgridus</td>\n",
       "      <td>35</td>\n",
       "    </tr>\n",
       "    <tr>\n",
       "      <th>10</th>\n",
       "      <td>divajla</td>\n",
       "      <td>nationalgridus</td>\n",
       "      <td>34</td>\n",
       "    </tr>\n",
       "    <tr>\n",
       "      <th>11</th>\n",
       "      <td>srinisankar</td>\n",
       "      <td>nationalgridus</td>\n",
       "      <td>34</td>\n",
       "    </tr>\n",
       "    <tr>\n",
       "      <th>12</th>\n",
       "      <td>st0ut717</td>\n",
       "      <td>nationalgridus</td>\n",
       "      <td>34</td>\n",
       "    </tr>\n",
       "    <tr>\n",
       "      <th>13</th>\n",
       "      <td>acraftymitch</td>\n",
       "      <td>nationalgridus</td>\n",
       "      <td>33</td>\n",
       "    </tr>\n",
       "    <tr>\n",
       "      <th>14</th>\n",
       "      <td>noternie</td>\n",
       "      <td>nationalgridus</td>\n",
       "      <td>33</td>\n",
       "    </tr>\n",
       "    <tr>\n",
       "      <th>15</th>\n",
       "      <td>national_grid</td>\n",
       "      <td>NGPowerofAction</td>\n",
       "      <td>33</td>\n",
       "    </tr>\n",
       "    <tr>\n",
       "      <th>16</th>\n",
       "      <td>mnrochelle</td>\n",
       "      <td>nationalgridus</td>\n",
       "      <td>28</td>\n",
       "    </tr>\n",
       "    <tr>\n",
       "      <th>17</th>\n",
       "      <td>mktobin</td>\n",
       "      <td>nationalgridus</td>\n",
       "      <td>28</td>\n",
       "    </tr>\n",
       "    <tr>\n",
       "      <th>18</th>\n",
       "      <td>nationalgridus</td>\n",
       "      <td>nationalgridus</td>\n",
       "      <td>27</td>\n",
       "    </tr>\n",
       "    <tr>\n",
       "      <th>19</th>\n",
       "      <td>Chines</td>\n",
       "      <td>nationalgridus</td>\n",
       "      <td>26</td>\n",
       "    </tr>\n",
       "    <tr>\n",
       "      <th>20</th>\n",
       "      <td>MelrosePatch</td>\n",
       "      <td>nationalgridus</td>\n",
       "      <td>26</td>\n",
       "    </tr>\n",
       "    <tr>\n",
       "      <th>21</th>\n",
       "      <td>LadyVonHall</td>\n",
       "      <td>nationalgridus</td>\n",
       "      <td>26</td>\n",
       "    </tr>\n",
       "    <tr>\n",
       "      <th>22</th>\n",
       "      <td>nationalgridus</td>\n",
       "      <td>ngpowerofaction</td>\n",
       "      <td>25</td>\n",
       "    </tr>\n",
       "    <tr>\n",
       "      <th>23</th>\n",
       "      <td>ralphfyoung</td>\n",
       "      <td>nationalgridus</td>\n",
       "      <td>25</td>\n",
       "    </tr>\n",
       "    <tr>\n",
       "      <th>24</th>\n",
       "      <td>srinisankar</td>\n",
       "      <td>FoxboroughPatch</td>\n",
       "      <td>22</td>\n",
       "    </tr>\n",
       "  </tbody>\n",
       "</table>\n",
       "</div>"
      ],
      "text/plain": [
       "               from               to  count\n",
       "0   NGPowerofAction   nationalgridus    101\n",
       "1           Breedon   nationalgridus     95\n",
       "2      EversourceNH             psnh     88\n",
       "3       CodyHopkins   nationalgridus     60\n",
       "4       BillericaPD   nationalgridus     53\n",
       "5      sprinter4883   nationalgridus     49\n",
       "6      wallabywayyy   nationalgridus     40\n",
       "7    nationalgridus       ENERGYSTAR     37\n",
       "8     national_grid   nationalgriduk     35\n",
       "9     national_grid   nationalgridus     35\n",
       "10          divajla   nationalgridus     34\n",
       "11      srinisankar   nationalgridus     34\n",
       "12         st0ut717   nationalgridus     34\n",
       "13     acraftymitch   nationalgridus     33\n",
       "14         noternie   nationalgridus     33\n",
       "15    national_grid  NGPowerofAction     33\n",
       "16       mnrochelle   nationalgridus     28\n",
       "17          mktobin   nationalgridus     28\n",
       "18   nationalgridus   nationalgridus     27\n",
       "19           Chines   nationalgridus     26\n",
       "20     MelrosePatch   nationalgridus     26\n",
       "21      LadyVonHall   nationalgridus     26\n",
       "22   nationalgridus  ngpowerofaction     25\n",
       "23      ralphfyoung   nationalgridus     25\n",
       "24      srinisankar  FoxboroughPatch     22"
      ]
     },
     "execution_count": 36,
     "metadata": {},
     "output_type": "execute_result"
    }
   ],
   "source": [
    "final_net.head(25)"
   ]
  },
  {
   "cell_type": "markdown",
   "metadata": {},
   "source": [
    "\n",
    "# Directed Graph\n",
    "\n",
    "\n",
    "Draw a graph with directed edges using a colormap and different node sizes.\n",
    "\n",
    "Edges have different colors and alphas (opacity). Drawn using matplotlib.\n",
    "\n"
   ]
  },
  {
   "cell_type": "code",
   "execution_count": 37,
   "metadata": {},
   "outputs": [
    {
     "data": {
      "image/png": "[encoded data removed]",
      "text/plain": [
       "<Figure size 1440x720 with 1 Axes>"
      ]
     },
     "metadata": {},
     "output_type": "display_data"
    }
   ],
   "source": [
    "# libraries\n",
    "import pandas as pd\n",
    "import numpy as np\n",
    "import networkx as nx\n",
    "import matplotlib.pyplot as plt\n",
    " \n",
    "plt.figure(figsize=(20,10))\n",
    "# Build your graph\n",
    "G=nx.from_pandas_edgelist(final_net.head(25), 'from', 'to', create_using=nx.DiGraph() )\n",
    "\n",
    "# Custom the nodes:\n",
    "nx.draw(G, with_labels=True, \n",
    "        node_color='skyblue', node_size=2200, \n",
    "        edge_color=final_net.head(25)['count'], width=3, edge_cmap=plt.cm.OrRd,\n",
    "        arrowstyle='->',arrowsize=20,\n",
    "        font_size=10, font_weight=\"bold\",\n",
    "        pos=nx.random_layout(G, seed=13))\n",
    "        #pos=nx.shell_layout(G),)"
   ]
  },
  {
   "cell_type": "markdown",
   "metadata": {},
   "source": [
    "# Graph using Bokeh"
   ]
  },
  {
   "cell_type": "markdown",
   "metadata": {},
   "source": [
    "In this context, Bokeh might provide us better and more interactive graphs. That's why I will try to implement the network analysis inside Bokeh package, which will make the visualization much more interactive."
   ]
  },
  {
   "cell_type": "code",
   "execution_count": 38,
   "metadata": {},
   "outputs": [],
   "source": [
    "import networkx as nx\n",
    "\n",
    "from bokeh.io import show, output_file\n",
    "from bokeh.models import Plot, Range1d, MultiLine, Circle, HoverTool, BoxZoomTool, ResetTool\n",
    "from bokeh.models.graphs import from_networkx\n",
    "from bokeh.palettes import Spectral4"
   ]
  },
  {
   "cell_type": "code",
   "execution_count": 39,
   "metadata": {},
   "outputs": [],
   "source": [
    "# Prepare Data\n",
    "G=nx.from_pandas_edgelist(final_net.head(25), 'from', 'to', create_using=nx.DiGraph() )"
   ]
  },
  {
   "cell_type": "code",
   "execution_count": 40,
   "metadata": {},
   "outputs": [
    {
     "data": {
      "text/plain": [
       "[('NGPowerofAction', 'nationalgridus'),\n",
       " ('nationalgridus', 'ENERGYSTAR'),\n",
       " ('nationalgridus', 'nationalgridus'),\n",
       " ('nationalgridus', 'ngpowerofaction'),\n",
       " ('Breedon', 'nationalgridus'),\n",
       " ('EversourceNH', 'psnh'),\n",
       " ('CodyHopkins', 'nationalgridus'),\n",
       " ('BillericaPD', 'nationalgridus'),\n",
       " ('sprinter4883', 'nationalgridus'),\n",
       " ('wallabywayyy', 'nationalgridus'),\n",
       " ('national_grid', 'nationalgriduk'),\n",
       " ('national_grid', 'nationalgridus'),\n",
       " ('national_grid', 'NGPowerofAction'),\n",
       " ('divajla', 'nationalgridus'),\n",
       " ('srinisankar', 'nationalgridus'),\n",
       " ('srinisankar', 'FoxboroughPatch'),\n",
       " ('st0ut717', 'nationalgridus'),\n",
       " ('acraftymitch', 'nationalgridus'),\n",
       " ('noternie', 'nationalgridus'),\n",
       " ('mnrochelle', 'nationalgridus'),\n",
       " ('mktobin', 'nationalgridus'),\n",
       " ('Chines', 'nationalgridus'),\n",
       " ('MelrosePatch', 'nationalgridus'),\n",
       " ('LadyVonHall', 'nationalgridus'),\n",
       " ('ralphfyoung', 'nationalgridus')]"
      ]
     },
     "execution_count": 40,
     "metadata": {},
     "output_type": "execute_result"
    }
   ],
   "source": [
    "list(G.edges)"
   ]
  },
  {
   "cell_type": "code",
   "execution_count": 41,
   "metadata": {},
   "outputs": [],
   "source": [
    "# to assign different colors to different bins, we created 5 bins.\n",
    "# The darkest is for the most frequent edge and lighter means less traffic.\n",
    "deg1, deg2, deg3, deg4, deg5 = '#8B4513', '#A0522D', '#CD853F', '#DEB887', '#FFE4B5'\n",
    "edge_attrs = {}"
   ]
  },
  {
   "cell_type": "code",
   "execution_count": 42,
   "metadata": {},
   "outputs": [
    {
     "data": {
      "text/plain": [
       "{}"
      ]
     },
     "execution_count": 42,
     "metadata": {},
     "output_type": "execute_result"
    }
   ],
   "source": [
    "edge_attrs"
   ]
  },
  {
   "cell_type": "code",
   "execution_count": 43,
   "metadata": {},
   "outputs": [],
   "source": [
    "for start_node, end_node, _ in G.edges(data=True):\n",
    "    \n",
    "    # created a mask for data frame. Essential to filter out the rows we need.\n",
    "    mask = int(final_net[(final_net['from'] == start_node) & (final_net['to'] == end_node)]['count'])\n",
    "\n",
    "    # Assigned corresponding colors to each one of the nodes\n",
    "    if int(mask) > 50 :\n",
    "        edge_color = deg1\n",
    "    elif (int(mask) <= 50) & (int(mask) > 40):\n",
    "        edge_color = deg2\n",
    "    elif (int(mask) <= 40) & (int(mask) > 34):\n",
    "        edge_color = deg3\n",
    "    elif (int(mask) <= 34) & (int(mask) > 28):\n",
    "        edge_color = deg4\n",
    "    else: \n",
    "        edge_color = deg5\n",
    "    \n",
    "    edge_attrs[(start_node, end_node)] = edge_color # assign the colors to the nodes."
   ]
  },
  {
   "cell_type": "code",
   "execution_count": 44,
   "metadata": {},
   "outputs": [],
   "source": [
    "nx.set_edge_attributes(G, edge_attrs, \"edge_color\")"
   ]
  },
  {
   "cell_type": "markdown",
   "metadata": {},
   "source": [
    " - bipartite_layout(G, nodes[, align, scale, …])\n",
    " - circular_layout(G[, scale, center, dim])\n",
    " - kamada_kawai_layout(G[, dist, pos, weight, …])\n",
    " - random_layout(G[, center, dim, seed])\n",
    " - rescale_layout(pos[, scale])\n",
    " - shell_layout(G[, nlist, scale, center, dim])\n",
    " - spring_layout(G[, k, pos, fixed, …])\n",
    " - spectral_layout(G[, weight, scale, center, dim])"
   ]
  },
  {
   "cell_type": "code",
   "execution_count": 45,
   "metadata": {},
   "outputs": [],
   "source": [
    "# Show with Bokeh\n",
    "plot = Plot(plot_width=400, plot_height=400,\n",
    "            x_range=Range1d(-1.1, 1.1), y_range=Range1d(-1.1, 1.1))\n",
    "plot.title.text = \"Graph Interaction Demonstration\"\n",
    "\n",
    "node_hover_tool = HoverTool(tooltips=[(\"Node\", \"@index\")])\n",
    "plot.add_tools(node_hover_tool, BoxZoomTool(), ResetTool())\n",
    "\n",
    "# Listed all the necessary layout options that might match our visual preferences: \n",
    "# graph_renderer = from_networkx(G, nx.circular_layout, scale=1, center=(0, 0))\n",
    "# graph_renderer = from_networkx(G, nx.random_layout, center = (-0.5,-0.5))\n",
    "graph_renderer = from_networkx(G, nx.shell_layout,  center=(0, 0))\n",
    "# graph_renderer = from_networkx(G, nx.spring_layout, scale=1, center=(0, 0))\n",
    "\n",
    "graph_renderer.node_renderer.glyph = Circle(size=15, fill_color=Spectral4[0])\n",
    "graph_renderer.edge_renderer.glyph = MultiLine(line_color=\"edge_color\", line_alpha=0.8, line_width=2)\n",
    "plot.renderers.append(graph_renderer)\n",
    "\n",
    "output_file(\"interactive_graphs.html\")\n",
    "show(plot)"
   ]
  },
  {
   "cell_type": "markdown",
   "metadata": {},
   "source": [
    "# Active Accounts Only During Outage"
   ]
  },
  {
   "cell_type": "code",
   "execution_count": 46,
   "metadata": {},
   "outputs": [],
   "source": [
    "# filter out only the rows where outage is equal to 0.\n",
    "# In other words, the rows that only happened during an outage\n",
    "tweets_sub0 = tweets[['timestamp','id','from','to','outage']].dropna()\n",
    "tweets_sub0 = tweets_sub0[tweets_sub0['outage'] == 0]"
   ]
  },
  {
   "cell_type": "code",
   "execution_count": 47,
   "metadata": {},
   "outputs": [
    {
     "data": {
      "text/html": [
       "<div>\n",
       "<style scoped>\n",
       "    .dataframe tbody tr th:only-of-type {\n",
       "        vertical-align: middle;\n",
       "    }\n",
       "\n",
       "    .dataframe tbody tr th {\n",
       "        vertical-align: top;\n",
       "    }\n",
       "\n",
       "    .dataframe thead th {\n",
       "        text-align: right;\n",
       "    }\n",
       "</style>\n",
       "<table border=\"1\" class=\"dataframe\">\n",
       "  <thead>\n",
       "    <tr style=\"text-align: right;\">\n",
       "      <th></th>\n",
       "      <th>timestamp</th>\n",
       "      <th>id</th>\n",
       "      <th>from</th>\n",
       "      <th>to</th>\n",
       "      <th>outage</th>\n",
       "    </tr>\n",
       "  </thead>\n",
       "  <tbody>\n",
       "    <tr>\n",
       "      <th>738</th>\n",
       "      <td>2012-11-12 22:18:22</td>\n",
       "      <td>268115548313890817</td>\n",
       "      <td>Jackie500</td>\n",
       "      <td>[nationalgridus:]</td>\n",
       "      <td>0</td>\n",
       "    </tr>\n",
       "    <tr>\n",
       "      <th>739</th>\n",
       "      <td>2012-11-12 22:17:57</td>\n",
       "      <td>268115443645030400</td>\n",
       "      <td>Jackie500</td>\n",
       "      <td>[nationalgridus:]</td>\n",
       "      <td>0</td>\n",
       "    </tr>\n",
       "    <tr>\n",
       "      <th>741</th>\n",
       "      <td>2012-11-12 21:42:45</td>\n",
       "      <td>268106584675213312</td>\n",
       "      <td>NYDNPolitics</td>\n",
       "      <td>[NYCBuildings, nationalgridus]</td>\n",
       "      <td>0</td>\n",
       "    </tr>\n",
       "    <tr>\n",
       "      <th>743</th>\n",
       "      <td>2012-11-12 21:10:10</td>\n",
       "      <td>268098383732932608</td>\n",
       "      <td>UnitedWayMABay</td>\n",
       "      <td>[Gillette, NationalGridUS, BostonFed]</td>\n",
       "      <td>0</td>\n",
       "    </tr>\n",
       "    <tr>\n",
       "      <th>744</th>\n",
       "      <td>2012-11-12 21:07:17</td>\n",
       "      <td>268097660639141888</td>\n",
       "      <td>UnitedWayMABay</td>\n",
       "      <td>[Gillette, NationalGridUS, BostonFed]</td>\n",
       "      <td>0</td>\n",
       "    </tr>\n",
       "  </tbody>\n",
       "</table>\n",
       "</div>"
      ],
      "text/plain": [
       "               timestamp                  id            from  \\\n",
       "738  2012-11-12 22:18:22  268115548313890817       Jackie500   \n",
       "739  2012-11-12 22:17:57  268115443645030400       Jackie500   \n",
       "741  2012-11-12 21:42:45  268106584675213312    NYDNPolitics   \n",
       "743  2012-11-12 21:10:10  268098383732932608  UnitedWayMABay   \n",
       "744  2012-11-12 21:07:17  268097660639141888  UnitedWayMABay   \n",
       "\n",
       "                                        to  outage  \n",
       "738                      [nationalgridus:]       0  \n",
       "739                      [nationalgridus:]       0  \n",
       "741         [NYCBuildings, nationalgridus]       0  \n",
       "743  [Gillette, NationalGridUS, BostonFed]       0  \n",
       "744  [Gillette, NationalGridUS, BostonFed]       0  "
      ]
     },
     "execution_count": 47,
     "metadata": {},
     "output_type": "execute_result"
    }
   ],
   "source": [
    "tweets_sub0.head()"
   ]
  },
  {
   "cell_type": "code",
   "execution_count": 48,
   "metadata": {},
   "outputs": [],
   "source": [
    "# A new data frame is created under the name of network. This data frame displays each \n",
    "# interaction between the nodes but there are duplicates.\n",
    "network0 = tweets_sub0.set_index('from').to.apply(pd.Series).stack().reset_index(level=0).rename(columns={0:'to'})"
   ]
  },
  {
   "cell_type": "code",
   "execution_count": 49,
   "metadata": {},
   "outputs": [],
   "source": [
    "# If there is any empty cell, we replaced them with np.nan so that the na's can be dropped.\n",
    "network0['from'] = network0['from'].map(lambda cell: np.nan if cell == '' else cell)\n",
    "network0['to'] = network0['to'].map(lambda cell: np.nan if cell == '' else cell)"
   ]
  },
  {
   "cell_type": "code",
   "execution_count": 50,
   "metadata": {
    "scrolled": true
   },
   "outputs": [
    {
     "data": {
      "text/plain": [
       "from      0\n",
       "to      427\n",
       "dtype: int64"
      ]
     },
     "execution_count": 50,
     "metadata": {},
     "output_type": "execute_result"
    }
   ],
   "source": [
    "network0.isnull().sum()"
   ]
  },
  {
   "cell_type": "code",
   "execution_count": 51,
   "metadata": {},
   "outputs": [],
   "source": [
    "network0.dropna(inplace = True)"
   ]
  },
  {
   "cell_type": "code",
   "execution_count": 52,
   "metadata": {},
   "outputs": [
    {
     "data": {
      "text/html": [
       "<div>\n",
       "<style scoped>\n",
       "    .dataframe tbody tr th:only-of-type {\n",
       "        vertical-align: middle;\n",
       "    }\n",
       "\n",
       "    .dataframe tbody tr th {\n",
       "        vertical-align: top;\n",
       "    }\n",
       "\n",
       "    .dataframe thead th {\n",
       "        text-align: right;\n",
       "    }\n",
       "</style>\n",
       "<table border=\"1\" class=\"dataframe\">\n",
       "  <thead>\n",
       "    <tr style=\"text-align: right;\">\n",
       "      <th></th>\n",
       "      <th>from</th>\n",
       "      <th>to</th>\n",
       "    </tr>\n",
       "  </thead>\n",
       "  <tbody>\n",
       "    <tr>\n",
       "      <th>0</th>\n",
       "      <td>Jackie500</td>\n",
       "      <td>nationalgridus:</td>\n",
       "    </tr>\n",
       "    <tr>\n",
       "      <th>0</th>\n",
       "      <td>Jackie500</td>\n",
       "      <td>nationalgridus:</td>\n",
       "    </tr>\n",
       "    <tr>\n",
       "      <th>0</th>\n",
       "      <td>NYDNPolitics</td>\n",
       "      <td>NYCBuildings</td>\n",
       "    </tr>\n",
       "    <tr>\n",
       "      <th>1</th>\n",
       "      <td>NYDNPolitics</td>\n",
       "      <td>nationalgridus</td>\n",
       "    </tr>\n",
       "    <tr>\n",
       "      <th>0</th>\n",
       "      <td>UnitedWayMABay</td>\n",
       "      <td>Gillette</td>\n",
       "    </tr>\n",
       "    <tr>\n",
       "      <th>1</th>\n",
       "      <td>UnitedWayMABay</td>\n",
       "      <td>NationalGridUS</td>\n",
       "    </tr>\n",
       "    <tr>\n",
       "      <th>2</th>\n",
       "      <td>UnitedWayMABay</td>\n",
       "      <td>BostonFed</td>\n",
       "    </tr>\n",
       "    <tr>\n",
       "      <th>0</th>\n",
       "      <td>UnitedWayMABay</td>\n",
       "      <td>Gillette</td>\n",
       "    </tr>\n",
       "    <tr>\n",
       "      <th>1</th>\n",
       "      <td>UnitedWayMABay</td>\n",
       "      <td>NationalGridUS</td>\n",
       "    </tr>\n",
       "    <tr>\n",
       "      <th>2</th>\n",
       "      <td>UnitedWayMABay</td>\n",
       "      <td>BostonFed</td>\n",
       "    </tr>\n",
       "  </tbody>\n",
       "</table>\n",
       "</div>"
      ],
      "text/plain": [
       "             from               to\n",
       "0       Jackie500  nationalgridus:\n",
       "0       Jackie500  nationalgridus:\n",
       "0    NYDNPolitics     NYCBuildings\n",
       "1    NYDNPolitics   nationalgridus\n",
       "0  UnitedWayMABay         Gillette\n",
       "1  UnitedWayMABay   NationalGridUS\n",
       "2  UnitedWayMABay        BostonFed\n",
       "0  UnitedWayMABay         Gillette\n",
       "1  UnitedWayMABay   NationalGridUS\n",
       "2  UnitedWayMABay        BostonFed"
      ]
     },
     "execution_count": 52,
     "metadata": {},
     "output_type": "execute_result"
    }
   ],
   "source": [
    "network0.head(10)"
   ]
  },
  {
   "cell_type": "code",
   "execution_count": 53,
   "metadata": {
    "scrolled": true
   },
   "outputs": [],
   "source": [
    "# Another issue was the punctuations. For instance there are rows like 'nationalgrid:'\n",
    "# This examples increase the number of nodes although it is an existing node which is referred.\n",
    "network0['from'] = network0['from'].str.replace(r'[^\\w\\s]+', '')\n",
    "network0['to'] = network0['to'].str.replace(r'[^\\w\\s]+', '')\n",
    "network0.reset_index(inplace = True, drop= True)"
   ]
  },
  {
   "cell_type": "code",
   "execution_count": 54,
   "metadata": {
    "scrolled": true
   },
   "outputs": [
    {
     "data": {
      "text/html": [
       "<div>\n",
       "<style scoped>\n",
       "    .dataframe tbody tr th:only-of-type {\n",
       "        vertical-align: middle;\n",
       "    }\n",
       "\n",
       "    .dataframe tbody tr th {\n",
       "        vertical-align: top;\n",
       "    }\n",
       "\n",
       "    .dataframe thead th {\n",
       "        text-align: right;\n",
       "    }\n",
       "</style>\n",
       "<table border=\"1\" class=\"dataframe\">\n",
       "  <thead>\n",
       "    <tr style=\"text-align: right;\">\n",
       "      <th></th>\n",
       "      <th>from</th>\n",
       "      <th>to</th>\n",
       "    </tr>\n",
       "  </thead>\n",
       "  <tbody>\n",
       "    <tr>\n",
       "      <th>0</th>\n",
       "      <td>Jackie500</td>\n",
       "      <td>nationalgridus</td>\n",
       "    </tr>\n",
       "    <tr>\n",
       "      <th>1</th>\n",
       "      <td>Jackie500</td>\n",
       "      <td>nationalgridus</td>\n",
       "    </tr>\n",
       "    <tr>\n",
       "      <th>2</th>\n",
       "      <td>NYDNPolitics</td>\n",
       "      <td>NYCBuildings</td>\n",
       "    </tr>\n",
       "    <tr>\n",
       "      <th>3</th>\n",
       "      <td>NYDNPolitics</td>\n",
       "      <td>nationalgridus</td>\n",
       "    </tr>\n",
       "    <tr>\n",
       "      <th>4</th>\n",
       "      <td>UnitedWayMABay</td>\n",
       "      <td>Gillette</td>\n",
       "    </tr>\n",
       "  </tbody>\n",
       "</table>\n",
       "</div>"
      ],
      "text/plain": [
       "             from              to\n",
       "0       Jackie500  nationalgridus\n",
       "1       Jackie500  nationalgridus\n",
       "2    NYDNPolitics    NYCBuildings\n",
       "3    NYDNPolitics  nationalgridus\n",
       "4  UnitedWayMABay        Gillette"
      ]
     },
     "execution_count": 54,
     "metadata": {},
     "output_type": "execute_result"
    }
   ],
   "source": [
    "network0.head()"
   ]
  },
  {
   "cell_type": "code",
   "execution_count": 55,
   "metadata": {},
   "outputs": [],
   "source": [
    "network0['to'] = network0['to'].map(lambda cell: np.nan if cell == '' else cell)"
   ]
  },
  {
   "cell_type": "code",
   "execution_count": 56,
   "metadata": {},
   "outputs": [],
   "source": [
    "network0.dropna(inplace = True)"
   ]
  },
  {
   "cell_type": "code",
   "execution_count": 57,
   "metadata": {
    "scrolled": true
   },
   "outputs": [
    {
     "data": {
      "text/html": [
       "<div>\n",
       "<style scoped>\n",
       "    .dataframe tbody tr th:only-of-type {\n",
       "        vertical-align: middle;\n",
       "    }\n",
       "\n",
       "    .dataframe tbody tr th {\n",
       "        vertical-align: top;\n",
       "    }\n",
       "\n",
       "    .dataframe thead th {\n",
       "        text-align: right;\n",
       "    }\n",
       "</style>\n",
       "<table border=\"1\" class=\"dataframe\">\n",
       "  <thead>\n",
       "    <tr style=\"text-align: right;\">\n",
       "      <th></th>\n",
       "      <th>from</th>\n",
       "      <th>to</th>\n",
       "    </tr>\n",
       "  </thead>\n",
       "  <tbody>\n",
       "    <tr>\n",
       "      <th>0</th>\n",
       "      <td>Jackie500</td>\n",
       "      <td>nationalgridus</td>\n",
       "    </tr>\n",
       "    <tr>\n",
       "      <th>1</th>\n",
       "      <td>Jackie500</td>\n",
       "      <td>nationalgridus</td>\n",
       "    </tr>\n",
       "    <tr>\n",
       "      <th>2</th>\n",
       "      <td>NYDNPolitics</td>\n",
       "      <td>NYCBuildings</td>\n",
       "    </tr>\n",
       "    <tr>\n",
       "      <th>3</th>\n",
       "      <td>NYDNPolitics</td>\n",
       "      <td>nationalgridus</td>\n",
       "    </tr>\n",
       "    <tr>\n",
       "      <th>4</th>\n",
       "      <td>UnitedWayMABay</td>\n",
       "      <td>Gillette</td>\n",
       "    </tr>\n",
       "  </tbody>\n",
       "</table>\n",
       "</div>"
      ],
      "text/plain": [
       "             from              to\n",
       "0       Jackie500  nationalgridus\n",
       "1       Jackie500  nationalgridus\n",
       "2    NYDNPolitics    NYCBuildings\n",
       "3    NYDNPolitics  nationalgridus\n",
       "4  UnitedWayMABay        Gillette"
      ]
     },
     "execution_count": 57,
     "metadata": {},
     "output_type": "execute_result"
    }
   ],
   "source": [
    "network0.head()"
   ]
  },
  {
   "cell_type": "code",
   "execution_count": 58,
   "metadata": {},
   "outputs": [],
   "source": [
    "# In order to visualize the dataframe easier, I ordered the columns alphabetically\n",
    "network0.sort_values(by = ['from'], inplace = True)"
   ]
  },
  {
   "cell_type": "code",
   "execution_count": 59,
   "metadata": {},
   "outputs": [],
   "source": [
    "network0.sort_values(by = ['to'], inplace = True)"
   ]
  },
  {
   "cell_type": "code",
   "execution_count": 60,
   "metadata": {},
   "outputs": [],
   "source": [
    "# reset the index\n",
    "network0.reset_index(inplace=True, drop=True)"
   ]
  },
  {
   "cell_type": "code",
   "execution_count": 61,
   "metadata": {
    "scrolled": true
   },
   "outputs": [
    {
     "data": {
      "text/html": [
       "<div>\n",
       "<style scoped>\n",
       "    .dataframe tbody tr th:only-of-type {\n",
       "        vertical-align: middle;\n",
       "    }\n",
       "\n",
       "    .dataframe tbody tr th {\n",
       "        vertical-align: top;\n",
       "    }\n",
       "\n",
       "    .dataframe thead th {\n",
       "        text-align: right;\n",
       "    }\n",
       "</style>\n",
       "<table border=\"1\" class=\"dataframe\">\n",
       "  <thead>\n",
       "    <tr style=\"text-align: right;\">\n",
       "      <th></th>\n",
       "      <th>from</th>\n",
       "      <th>to</th>\n",
       "    </tr>\n",
       "  </thead>\n",
       "  <tbody>\n",
       "    <tr>\n",
       "      <th>0</th>\n",
       "      <td>limnrix</td>\n",
       "      <td>0157</td>\n",
       "    </tr>\n",
       "    <tr>\n",
       "      <th>1</th>\n",
       "      <td>lizamoskowitz</td>\n",
       "      <td>100BayState</td>\n",
       "    </tr>\n",
       "    <tr>\n",
       "      <th>2</th>\n",
       "      <td>NathanSpencer</td>\n",
       "      <td>1033WODS</td>\n",
       "    </tr>\n",
       "    <tr>\n",
       "      <th>3</th>\n",
       "      <td>spotlightgear</td>\n",
       "      <td>12Vspotlight</td>\n",
       "    </tr>\n",
       "    <tr>\n",
       "      <th>4</th>\n",
       "      <td>FinaleSnG</td>\n",
       "      <td>12marauder11553</td>\n",
       "    </tr>\n",
       "  </tbody>\n",
       "</table>\n",
       "</div>"
      ],
      "text/plain": [
       "            from               to\n",
       "0        limnrix             0157\n",
       "1  lizamoskowitz      100BayState\n",
       "2  NathanSpencer         1033WODS\n",
       "3  spotlightgear     12Vspotlight\n",
       "4      FinaleSnG  12marauder11553"
      ]
     },
     "execution_count": 61,
     "metadata": {},
     "output_type": "execute_result"
    }
   ],
   "source": [
    "network0.head()"
   ]
  },
  {
   "cell_type": "code",
   "execution_count": 62,
   "metadata": {},
   "outputs": [
    {
     "data": {
      "text/plain": [
       "11954"
      ]
     },
     "execution_count": 62,
     "metadata": {},
     "output_type": "execute_result"
    }
   ],
   "source": [
    "len(network0)"
   ]
  },
  {
   "cell_type": "code",
   "execution_count": 63,
   "metadata": {
    "scrolled": false
   },
   "outputs": [
    {
     "data": {
      "text/plain": [
       "7816"
      ]
     },
     "execution_count": 63,
     "metadata": {},
     "output_type": "execute_result"
    }
   ],
   "source": [
    "len(network0.drop_duplicates())"
   ]
  },
  {
   "cell_type": "code",
   "execution_count": 64,
   "metadata": {},
   "outputs": [],
   "source": [
    "final_net0 = network0.groupby(network0.columns.tolist()).size().reset_index().rename(columns={0:'count'})"
   ]
  },
  {
   "cell_type": "code",
   "execution_count": 65,
   "metadata": {},
   "outputs": [],
   "source": [
    "final_net0 = final_net0.sort_values(by=('count'), ascending=False).reset_index(drop=True)"
   ]
  },
  {
   "cell_type": "code",
   "execution_count": 66,
   "metadata": {},
   "outputs": [
    {
     "data": {
      "text/html": [
       "<div>\n",
       "<style scoped>\n",
       "    .dataframe tbody tr th:only-of-type {\n",
       "        vertical-align: middle;\n",
       "    }\n",
       "\n",
       "    .dataframe tbody tr th {\n",
       "        vertical-align: top;\n",
       "    }\n",
       "\n",
       "    .dataframe thead th {\n",
       "        text-align: right;\n",
       "    }\n",
       "</style>\n",
       "<table border=\"1\" class=\"dataframe\">\n",
       "  <thead>\n",
       "    <tr style=\"text-align: right;\">\n",
       "      <th></th>\n",
       "      <th>from</th>\n",
       "      <th>to</th>\n",
       "      <th>count</th>\n",
       "    </tr>\n",
       "  </thead>\n",
       "  <tbody>\n",
       "    <tr>\n",
       "      <th>0</th>\n",
       "      <td>NGPowerofAction</td>\n",
       "      <td>nationalgridus</td>\n",
       "      <td>209</td>\n",
       "    </tr>\n",
       "    <tr>\n",
       "      <th>1</th>\n",
       "      <td>nationalgridus</td>\n",
       "      <td>nationalgridus</td>\n",
       "      <td>104</td>\n",
       "    </tr>\n",
       "    <tr>\n",
       "      <th>2</th>\n",
       "      <td>nationalgridus</td>\n",
       "      <td>ENERGYSTAR</td>\n",
       "      <td>104</td>\n",
       "    </tr>\n",
       "    <tr>\n",
       "      <th>3</th>\n",
       "      <td>Andruzzi63</td>\n",
       "      <td>nationalgridus</td>\n",
       "      <td>86</td>\n",
       "    </tr>\n",
       "    <tr>\n",
       "      <th>4</th>\n",
       "      <td>national_grid</td>\n",
       "      <td>nationalgriduk</td>\n",
       "      <td>76</td>\n",
       "    </tr>\n",
       "    <tr>\n",
       "      <th>5</th>\n",
       "      <td>national_grid</td>\n",
       "      <td>nationalgridus</td>\n",
       "      <td>76</td>\n",
       "    </tr>\n",
       "    <tr>\n",
       "      <th>6</th>\n",
       "      <td>joeandruzzifndn</td>\n",
       "      <td>nationalgridus</td>\n",
       "      <td>72</td>\n",
       "    </tr>\n",
       "    <tr>\n",
       "      <th>7</th>\n",
       "      <td>national_grid</td>\n",
       "      <td>NGPowerofAction</td>\n",
       "      <td>64</td>\n",
       "    </tr>\n",
       "    <tr>\n",
       "      <th>8</th>\n",
       "      <td>nationalgridus</td>\n",
       "      <td>ToSaveEnergy</td>\n",
       "      <td>60</td>\n",
       "    </tr>\n",
       "    <tr>\n",
       "      <th>9</th>\n",
       "      <td>nationalgridus</td>\n",
       "      <td>CityYear</td>\n",
       "      <td>54</td>\n",
       "    </tr>\n",
       "    <tr>\n",
       "      <th>10</th>\n",
       "      <td>nationalgridus</td>\n",
       "      <td>HeartShare</td>\n",
       "      <td>47</td>\n",
       "    </tr>\n",
       "    <tr>\n",
       "      <th>11</th>\n",
       "      <td>nationalgridus</td>\n",
       "      <td>ENERGY</td>\n",
       "      <td>45</td>\n",
       "    </tr>\n",
       "    <tr>\n",
       "      <th>12</th>\n",
       "      <td>Jackie500</td>\n",
       "      <td>nationalgridus</td>\n",
       "      <td>42</td>\n",
       "    </tr>\n",
       "    <tr>\n",
       "      <th>13</th>\n",
       "      <td>lowfoot</td>\n",
       "      <td>nationalgridus</td>\n",
       "      <td>42</td>\n",
       "    </tr>\n",
       "    <tr>\n",
       "      <th>14</th>\n",
       "      <td>lowfoot</td>\n",
       "      <td>lowfootSmartGrid</td>\n",
       "      <td>41</td>\n",
       "    </tr>\n",
       "    <tr>\n",
       "      <th>15</th>\n",
       "      <td>ToSaveEnergy</td>\n",
       "      <td>nationalgridus</td>\n",
       "      <td>37</td>\n",
       "    </tr>\n",
       "    <tr>\n",
       "      <th>16</th>\n",
       "      <td>Andruzzi63</td>\n",
       "      <td>joeandruzzifndn</td>\n",
       "      <td>35</td>\n",
       "    </tr>\n",
       "    <tr>\n",
       "      <th>17</th>\n",
       "      <td>k_a_power</td>\n",
       "      <td>PeachesPatel</td>\n",
       "      <td>27</td>\n",
       "    </tr>\n",
       "    <tr>\n",
       "      <th>18</th>\n",
       "      <td>nationalgridus</td>\n",
       "      <td>EnergyStar</td>\n",
       "      <td>25</td>\n",
       "    </tr>\n",
       "    <tr>\n",
       "      <th>19</th>\n",
       "      <td>HeartShare</td>\n",
       "      <td>nationalgridus</td>\n",
       "      <td>24</td>\n",
       "    </tr>\n",
       "    <tr>\n",
       "      <th>20</th>\n",
       "      <td>nationalgridus</td>\n",
       "      <td>ngpowerofaction</td>\n",
       "      <td>23</td>\n",
       "    </tr>\n",
       "    <tr>\n",
       "      <th>21</th>\n",
       "      <td>nationalgridus</td>\n",
       "      <td>joeandruzzifndn</td>\n",
       "      <td>23</td>\n",
       "    </tr>\n",
       "    <tr>\n",
       "      <th>22</th>\n",
       "      <td>joeandruzzifndn</td>\n",
       "      <td>Patriots</td>\n",
       "      <td>23</td>\n",
       "    </tr>\n",
       "    <tr>\n",
       "      <th>23</th>\n",
       "      <td>nationalgridus</td>\n",
       "      <td>HESConsumer</td>\n",
       "      <td>21</td>\n",
       "    </tr>\n",
       "    <tr>\n",
       "      <th>24</th>\n",
       "      <td>BCSECleanEnergy</td>\n",
       "      <td>nationalgridus</td>\n",
       "      <td>20</td>\n",
       "    </tr>\n",
       "  </tbody>\n",
       "</table>\n",
       "</div>"
      ],
      "text/plain": [
       "               from                to  count\n",
       "0   NGPowerofAction    nationalgridus    209\n",
       "1    nationalgridus    nationalgridus    104\n",
       "2    nationalgridus        ENERGYSTAR    104\n",
       "3        Andruzzi63    nationalgridus     86\n",
       "4     national_grid    nationalgriduk     76\n",
       "5     national_grid    nationalgridus     76\n",
       "6   joeandruzzifndn    nationalgridus     72\n",
       "7     national_grid   NGPowerofAction     64\n",
       "8    nationalgridus      ToSaveEnergy     60\n",
       "9    nationalgridus          CityYear     54\n",
       "10   nationalgridus        HeartShare     47\n",
       "11   nationalgridus            ENERGY     45\n",
       "12        Jackie500    nationalgridus     42\n",
       "13          lowfoot    nationalgridus     42\n",
       "14          lowfoot  lowfootSmartGrid     41\n",
       "15     ToSaveEnergy    nationalgridus     37\n",
       "16       Andruzzi63   joeandruzzifndn     35\n",
       "17        k_a_power      PeachesPatel     27\n",
       "18   nationalgridus        EnergyStar     25\n",
       "19       HeartShare    nationalgridus     24\n",
       "20   nationalgridus   ngpowerofaction     23\n",
       "21   nationalgridus   joeandruzzifndn     23\n",
       "22  joeandruzzifndn          Patriots     23\n",
       "23   nationalgridus       HESConsumer     21\n",
       "24  BCSECleanEnergy    nationalgridus     20"
      ]
     },
     "execution_count": 66,
     "metadata": {},
     "output_type": "execute_result"
    }
   ],
   "source": [
    "final_net0.head(25)"
   ]
  },
  {
   "cell_type": "code",
   "execution_count": 67,
   "metadata": {},
   "outputs": [],
   "source": [
    "# Just for the sake of simplicity, I will only include the interactions that happened more than once in both\n",
    "final_net = final_net[final_net['count'] > 5]\n",
    "final_net0 = final_net0[final_net0['count'] > 5]"
   ]
  },
  {
   "cell_type": "code",
   "execution_count": 68,
   "metadata": {},
   "outputs": [],
   "source": [
    "int_lst = []\n",
    "for i in range(0,len(final_net0)):\n",
    "\n",
    "    for j in range(0, len(final_net)):\n",
    "        some_lst = []\n",
    "        \n",
    "        if final_net0['from'][i] == final_net['from'][j]:\n",
    "            if final_net0['to'][i] == final_net['to'][j]:\n",
    "                \n",
    "                dif = int(final_net['count'][i]) - int(final_net0['count'][i])\n",
    "                \n",
    "                some_lst.append(final_net0['from'][i])\n",
    "                some_lst.append(final_net0['to'][i])\n",
    "                some_lst.append(dif)\n",
    "                int_lst.append(some_lst)\n",
    "            else:\n",
    "                continue\n",
    "        else:\n",
    "            continue\n",
    "                "
   ]
  },
  {
   "cell_type": "code",
   "execution_count": 69,
   "metadata": {},
   "outputs": [
    {
     "data": {
      "text/plain": [
       "47"
      ]
     },
     "execution_count": 69,
     "metadata": {},
     "output_type": "execute_result"
    }
   ],
   "source": [
    "len(int_lst)"
   ]
  },
  {
   "cell_type": "code",
   "execution_count": 70,
   "metadata": {},
   "outputs": [],
   "source": [
    "first_to = []\n",
    "second_from = []\n",
    "third_cnt = []\n",
    "for i in range(0,len(int_lst)):\n",
    "    first_to.append(int_lst[i][0])\n",
    "    second_from.append(int_lst[i][1])\n",
    "    third_cnt.append(int_lst[i][2])"
   ]
  },
  {
   "cell_type": "code",
   "execution_count": 71,
   "metadata": {},
   "outputs": [
    {
     "data": {
      "text/html": [
       "<div>\n",
       "<style scoped>\n",
       "    .dataframe tbody tr th:only-of-type {\n",
       "        vertical-align: middle;\n",
       "    }\n",
       "\n",
       "    .dataframe tbody tr th {\n",
       "        vertical-align: top;\n",
       "    }\n",
       "\n",
       "    .dataframe thead th {\n",
       "        text-align: right;\n",
       "    }\n",
       "</style>\n",
       "<table border=\"1\" class=\"dataframe\">\n",
       "  <thead>\n",
       "    <tr style=\"text-align: right;\">\n",
       "      <th></th>\n",
       "      <th>from</th>\n",
       "      <th>to</th>\n",
       "      <th>count</th>\n",
       "    </tr>\n",
       "  </thead>\n",
       "  <tbody>\n",
       "    <tr>\n",
       "      <th>0</th>\n",
       "      <td>nationalgridus</td>\n",
       "      <td>BNMC</td>\n",
       "      <td>5</td>\n",
       "    </tr>\n",
       "    <tr>\n",
       "      <th>1</th>\n",
       "      <td>HarderServices</td>\n",
       "      <td>nationalgridus</td>\n",
       "      <td>5</td>\n",
       "    </tr>\n",
       "    <tr>\n",
       "      <th>2</th>\n",
       "      <td>AndreaWBZ</td>\n",
       "      <td>nationalgridus</td>\n",
       "      <td>5</td>\n",
       "    </tr>\n",
       "    <tr>\n",
       "      <th>3</th>\n",
       "      <td>WestfordPatch</td>\n",
       "      <td>nationalgridus</td>\n",
       "      <td>5</td>\n",
       "    </tr>\n",
       "    <tr>\n",
       "      <th>4</th>\n",
       "      <td>EversourceNH</td>\n",
       "      <td>kdpaine</td>\n",
       "      <td>5</td>\n",
       "    </tr>\n",
       "  </tbody>\n",
       "</table>\n",
       "</div>"
      ],
      "text/plain": [
       "             from              to  count\n",
       "0  nationalgridus            BNMC      5\n",
       "1  HarderServices  nationalgridus      5\n",
       "2       AndreaWBZ  nationalgridus      5\n",
       "3   WestfordPatch  nationalgridus      5\n",
       "4    EversourceNH         kdpaine      5"
      ]
     },
     "execution_count": 71,
     "metadata": {},
     "output_type": "execute_result"
    }
   ],
   "source": [
    "df = pd.DataFrame([])\n",
    "df['from'] = pd.Series(first_to)\n",
    "df['to'] = pd.Series(second_from)\n",
    "df['count'] = pd.Series(third_cnt)\n",
    "df = df.sort_values(by='count', ascending = False)\n",
    "df.reset_index(inplace=True, drop=True)\n",
    "df.head()"
   ]
  },
  {
   "cell_type": "markdown",
   "metadata": {},
   "source": [
    "    \n",
    "# Directed Graph\n",
    "\n",
    "\n",
    "Draw a graph with directed edges using a colormap and different node sizes.\n",
    "\n",
    "Edges have different colors and alphas (opacity). Drawn using matplotlib.\n",
    "\n"
   ]
  },
  {
   "cell_type": "code",
   "execution_count": 72,
   "metadata": {},
   "outputs": [
    {
     "data": {
      "image/png": "[encoded data removed]",
      "text/plain": [
       "<Figure size 1440x720 with 1 Axes>"
      ]
     },
     "metadata": {},
     "output_type": "display_data"
    }
   ],
   "source": [
    "# libraries\n",
    "import pandas as pd\n",
    "import numpy as np\n",
    "import networkx as nx\n",
    "import matplotlib.pyplot as plt\n",
    " \n",
    "plt.figure(figsize=(20,10))\n",
    "# Build your graph\n",
    "G=nx.from_pandas_edgelist(df.head(25), 'from', 'to', create_using=nx.DiGraph() )\n",
    "\n",
    "# Custom the nodes:\n",
    "nx.draw(G, with_labels=True, \n",
    "        node_color='skyblue', node_size=2200, \n",
    "        edge_color=final_net.head(25)['count'], width=3, edge_cmap=plt.cm.OrRd,\n",
    "        arrowstyle='->',arrowsize=20,\n",
    "        font_size=10, font_weight=\"bold\",\n",
    "        pos=nx.random_layout(G, seed=13))\n",
    "        #pos=nx.shell_layout(G),)"
   ]
  },
  {
   "cell_type": "markdown",
   "metadata": {},
   "source": [
    "# Graph using Bokeh"
   ]
  },
  {
   "cell_type": "code",
   "execution_count": 73,
   "metadata": {},
   "outputs": [],
   "source": [
    "import networkx as nx\n",
    "\n",
    "from bokeh.io import show, output_file\n",
    "from bokeh.models import Plot, Range1d, MultiLine, Circle, HoverTool, BoxZoomTool, ResetTool\n",
    "from bokeh.models.graphs import from_networkx\n",
    "from bokeh.palettes import Spectral4"
   ]
  },
  {
   "cell_type": "code",
   "execution_count": 74,
   "metadata": {},
   "outputs": [],
   "source": [
    "# Prepare Data\n",
    "G=nx.from_pandas_edgelist(df.head(25), 'from', 'to', create_using=nx.DiGraph() )"
   ]
  },
  {
   "cell_type": "code",
   "execution_count": 75,
   "metadata": {
    "scrolled": true
   },
   "outputs": [
    {
     "data": {
      "text/plain": [
       "[('nationalgridus', 'BNMC'),\n",
       " ('nationalgridus', 'fema'),\n",
       " ('nationalgridus', 'RedCross'),\n",
       " ('nationalgridus', 'ngpowerofaction'),\n",
       " ('HarderServices', 'nationalgridus'),\n",
       " ('HarderServices', 'LIPAnews'),\n",
       " ('AndreaWBZ', 'nationalgridus'),\n",
       " ('WestfordPatch', 'nationalgridus'),\n",
       " ('EversourceNH', 'kdpaine'),\n",
       " ('NortheasternMRC', 'nationalgridus'),\n",
       " ('JonPincince', 'nationalgridus'),\n",
       " ('rbeland', 'nationalgridus'),\n",
       " ('srinisankar', 'nationalgridus'),\n",
       " ('srinisankar', 'FoxboroughPatch'),\n",
       " ('PEMAEOC', 'nationalgridus'),\n",
       " ('TyngsboroughMA', 'Nationalgridus'),\n",
       " ('NewSouthMat', 'nationalgridus'),\n",
       " ('clubPERFECTION', 'CLUBPERFECTION'),\n",
       " ('NGPowerofAction', 'nationalgridUS'),\n",
       " ('NGPowerofAction', 'NationalGridUS'),\n",
       " ('DonnaTocci', 'nationalgridus'),\n",
       " ('outagetracker', 'nationalgridus'),\n",
       " ('PEMA591', 'nationalgridus'),\n",
       " ('AmaSan25', 'nationalgridus'),\n",
       " ('smartwattinc', 'nationalgridus')]"
      ]
     },
     "execution_count": 75,
     "metadata": {},
     "output_type": "execute_result"
    }
   ],
   "source": [
    "list(G.edges)"
   ]
  },
  {
   "cell_type": "code",
   "execution_count": 76,
   "metadata": {},
   "outputs": [
    {
     "data": {
      "text/html": [
       "<div>\n",
       "<style scoped>\n",
       "    .dataframe tbody tr th:only-of-type {\n",
       "        vertical-align: middle;\n",
       "    }\n",
       "\n",
       "    .dataframe tbody tr th {\n",
       "        vertical-align: top;\n",
       "    }\n",
       "\n",
       "    .dataframe thead th {\n",
       "        text-align: right;\n",
       "    }\n",
       "</style>\n",
       "<table border=\"1\" class=\"dataframe\">\n",
       "  <thead>\n",
       "    <tr style=\"text-align: right;\">\n",
       "      <th></th>\n",
       "      <th>from</th>\n",
       "      <th>to</th>\n",
       "      <th>count</th>\n",
       "    </tr>\n",
       "  </thead>\n",
       "  <tbody>\n",
       "    <tr>\n",
       "      <th>0</th>\n",
       "      <td>nationalgridus</td>\n",
       "      <td>BNMC</td>\n",
       "      <td>5</td>\n",
       "    </tr>\n",
       "    <tr>\n",
       "      <th>1</th>\n",
       "      <td>HarderServices</td>\n",
       "      <td>nationalgridus</td>\n",
       "      <td>5</td>\n",
       "    </tr>\n",
       "    <tr>\n",
       "      <th>2</th>\n",
       "      <td>AndreaWBZ</td>\n",
       "      <td>nationalgridus</td>\n",
       "      <td>5</td>\n",
       "    </tr>\n",
       "    <tr>\n",
       "      <th>3</th>\n",
       "      <td>WestfordPatch</td>\n",
       "      <td>nationalgridus</td>\n",
       "      <td>5</td>\n",
       "    </tr>\n",
       "    <tr>\n",
       "      <th>4</th>\n",
       "      <td>EversourceNH</td>\n",
       "      <td>kdpaine</td>\n",
       "      <td>5</td>\n",
       "    </tr>\n",
       "    <tr>\n",
       "      <th>5</th>\n",
       "      <td>NortheasternMRC</td>\n",
       "      <td>nationalgridus</td>\n",
       "      <td>5</td>\n",
       "    </tr>\n",
       "    <tr>\n",
       "      <th>6</th>\n",
       "      <td>JonPincince</td>\n",
       "      <td>nationalgridus</td>\n",
       "      <td>4</td>\n",
       "    </tr>\n",
       "    <tr>\n",
       "      <th>7</th>\n",
       "      <td>rbeland</td>\n",
       "      <td>nationalgridus</td>\n",
       "      <td>4</td>\n",
       "    </tr>\n",
       "    <tr>\n",
       "      <th>8</th>\n",
       "      <td>srinisankar</td>\n",
       "      <td>nationalgridus</td>\n",
       "      <td>4</td>\n",
       "    </tr>\n",
       "    <tr>\n",
       "      <th>9</th>\n",
       "      <td>srinisankar</td>\n",
       "      <td>FoxboroughPatch</td>\n",
       "      <td>4</td>\n",
       "    </tr>\n",
       "    <tr>\n",
       "      <th>10</th>\n",
       "      <td>PEMAEOC</td>\n",
       "      <td>nationalgridus</td>\n",
       "      <td>4</td>\n",
       "    </tr>\n",
       "    <tr>\n",
       "      <th>11</th>\n",
       "      <td>nationalgridus</td>\n",
       "      <td>fema</td>\n",
       "      <td>4</td>\n",
       "    </tr>\n",
       "    <tr>\n",
       "      <th>12</th>\n",
       "      <td>TyngsboroughMA</td>\n",
       "      <td>Nationalgridus</td>\n",
       "      <td>4</td>\n",
       "    </tr>\n",
       "    <tr>\n",
       "      <th>13</th>\n",
       "      <td>nationalgridus</td>\n",
       "      <td>RedCross</td>\n",
       "      <td>4</td>\n",
       "    </tr>\n",
       "    <tr>\n",
       "      <th>14</th>\n",
       "      <td>NewSouthMat</td>\n",
       "      <td>nationalgridus</td>\n",
       "      <td>4</td>\n",
       "    </tr>\n",
       "    <tr>\n",
       "      <th>15</th>\n",
       "      <td>clubPERFECTION</td>\n",
       "      <td>CLUBPERFECTION</td>\n",
       "      <td>3</td>\n",
       "    </tr>\n",
       "    <tr>\n",
       "      <th>16</th>\n",
       "      <td>NGPowerofAction</td>\n",
       "      <td>nationalgridUS</td>\n",
       "      <td>3</td>\n",
       "    </tr>\n",
       "    <tr>\n",
       "      <th>17</th>\n",
       "      <td>nationalgridus</td>\n",
       "      <td>ngpowerofaction</td>\n",
       "      <td>3</td>\n",
       "    </tr>\n",
       "    <tr>\n",
       "      <th>18</th>\n",
       "      <td>DonnaTocci</td>\n",
       "      <td>nationalgridus</td>\n",
       "      <td>3</td>\n",
       "    </tr>\n",
       "    <tr>\n",
       "      <th>19</th>\n",
       "      <td>outagetracker</td>\n",
       "      <td>nationalgridus</td>\n",
       "      <td>3</td>\n",
       "    </tr>\n",
       "    <tr>\n",
       "      <th>20</th>\n",
       "      <td>NGPowerofAction</td>\n",
       "      <td>NationalGridUS</td>\n",
       "      <td>3</td>\n",
       "    </tr>\n",
       "    <tr>\n",
       "      <th>21</th>\n",
       "      <td>PEMA591</td>\n",
       "      <td>nationalgridus</td>\n",
       "      <td>3</td>\n",
       "    </tr>\n",
       "    <tr>\n",
       "      <th>22</th>\n",
       "      <td>AmaSan25</td>\n",
       "      <td>nationalgridus</td>\n",
       "      <td>3</td>\n",
       "    </tr>\n",
       "    <tr>\n",
       "      <th>23</th>\n",
       "      <td>HarderServices</td>\n",
       "      <td>LIPAnews</td>\n",
       "      <td>3</td>\n",
       "    </tr>\n",
       "    <tr>\n",
       "      <th>24</th>\n",
       "      <td>smartwattinc</td>\n",
       "      <td>nationalgridus</td>\n",
       "      <td>2</td>\n",
       "    </tr>\n",
       "    <tr>\n",
       "      <th>25</th>\n",
       "      <td>joeandruzzifndn</td>\n",
       "      <td>Patriots</td>\n",
       "      <td>2</td>\n",
       "    </tr>\n",
       "    <tr>\n",
       "      <th>26</th>\n",
       "      <td>HeartShare</td>\n",
       "      <td>nationalgridus</td>\n",
       "      <td>2</td>\n",
       "    </tr>\n",
       "    <tr>\n",
       "      <th>27</th>\n",
       "      <td>nationalgridus</td>\n",
       "      <td>EnergyStar</td>\n",
       "      <td>2</td>\n",
       "    </tr>\n",
       "    <tr>\n",
       "      <th>28</th>\n",
       "      <td>EversourceNH</td>\n",
       "      <td>psnh</td>\n",
       "      <td>1</td>\n",
       "    </tr>\n",
       "    <tr>\n",
       "      <th>29</th>\n",
       "      <td>BillericaPD</td>\n",
       "      <td>nationalgridus</td>\n",
       "      <td>1</td>\n",
       "    </tr>\n",
       "    <tr>\n",
       "      <th>30</th>\n",
       "      <td>ToSaveEnergy</td>\n",
       "      <td>nationalgridus</td>\n",
       "      <td>-4</td>\n",
       "    </tr>\n",
       "    <tr>\n",
       "      <th>31</th>\n",
       "      <td>Andruzzi63</td>\n",
       "      <td>joeandruzzifndn</td>\n",
       "      <td>-7</td>\n",
       "    </tr>\n",
       "    <tr>\n",
       "      <th>32</th>\n",
       "      <td>lowfoot</td>\n",
       "      <td>lowfootSmartGrid</td>\n",
       "      <td>-8</td>\n",
       "    </tr>\n",
       "    <tr>\n",
       "      <th>33</th>\n",
       "      <td>Jackie500</td>\n",
       "      <td>nationalgridus</td>\n",
       "      <td>-8</td>\n",
       "    </tr>\n",
       "    <tr>\n",
       "      <th>34</th>\n",
       "      <td>nationalgridus</td>\n",
       "      <td>nationalgridus</td>\n",
       "      <td>-9</td>\n",
       "    </tr>\n",
       "    <tr>\n",
       "      <th>35</th>\n",
       "      <td>lowfoot</td>\n",
       "      <td>nationalgridus</td>\n",
       "      <td>-9</td>\n",
       "    </tr>\n",
       "    <tr>\n",
       "      <th>36</th>\n",
       "      <td>nationalgridus</td>\n",
       "      <td>ENERGY</td>\n",
       "      <td>-11</td>\n",
       "    </tr>\n",
       "    <tr>\n",
       "      <th>37</th>\n",
       "      <td>nationalgridus</td>\n",
       "      <td>HeartShare</td>\n",
       "      <td>-13</td>\n",
       "    </tr>\n",
       "    <tr>\n",
       "      <th>38</th>\n",
       "      <td>nationalgridus</td>\n",
       "      <td>ENERGYSTAR</td>\n",
       "      <td>-16</td>\n",
       "    </tr>\n",
       "    <tr>\n",
       "      <th>39</th>\n",
       "      <td>nationalgridus</td>\n",
       "      <td>CityYear</td>\n",
       "      <td>-19</td>\n",
       "    </tr>\n",
       "    <tr>\n",
       "      <th>40</th>\n",
       "      <td>national_grid</td>\n",
       "      <td>nationalgriduk</td>\n",
       "      <td>-23</td>\n",
       "    </tr>\n",
       "    <tr>\n",
       "      <th>41</th>\n",
       "      <td>nationalgridus</td>\n",
       "      <td>ToSaveEnergy</td>\n",
       "      <td>-25</td>\n",
       "    </tr>\n",
       "    <tr>\n",
       "      <th>42</th>\n",
       "      <td>Andruzzi63</td>\n",
       "      <td>nationalgridus</td>\n",
       "      <td>-26</td>\n",
       "    </tr>\n",
       "    <tr>\n",
       "      <th>43</th>\n",
       "      <td>national_grid</td>\n",
       "      <td>NGPowerofAction</td>\n",
       "      <td>-27</td>\n",
       "    </tr>\n",
       "    <tr>\n",
       "      <th>44</th>\n",
       "      <td>national_grid</td>\n",
       "      <td>nationalgridus</td>\n",
       "      <td>-27</td>\n",
       "    </tr>\n",
       "    <tr>\n",
       "      <th>45</th>\n",
       "      <td>joeandruzzifndn</td>\n",
       "      <td>nationalgridus</td>\n",
       "      <td>-32</td>\n",
       "    </tr>\n",
       "    <tr>\n",
       "      <th>46</th>\n",
       "      <td>NGPowerofAction</td>\n",
       "      <td>nationalgridus</td>\n",
       "      <td>-108</td>\n",
       "    </tr>\n",
       "  </tbody>\n",
       "</table>\n",
       "</div>"
      ],
      "text/plain": [
       "               from                to  count\n",
       "0    nationalgridus              BNMC      5\n",
       "1    HarderServices    nationalgridus      5\n",
       "2         AndreaWBZ    nationalgridus      5\n",
       "3     WestfordPatch    nationalgridus      5\n",
       "4      EversourceNH           kdpaine      5\n",
       "5   NortheasternMRC    nationalgridus      5\n",
       "6       JonPincince    nationalgridus      4\n",
       "7           rbeland    nationalgridus      4\n",
       "8       srinisankar    nationalgridus      4\n",
       "9       srinisankar   FoxboroughPatch      4\n",
       "10          PEMAEOC    nationalgridus      4\n",
       "11   nationalgridus              fema      4\n",
       "12   TyngsboroughMA    Nationalgridus      4\n",
       "13   nationalgridus          RedCross      4\n",
       "14      NewSouthMat    nationalgridus      4\n",
       "15   clubPERFECTION    CLUBPERFECTION      3\n",
       "16  NGPowerofAction    nationalgridUS      3\n",
       "17   nationalgridus   ngpowerofaction      3\n",
       "18       DonnaTocci    nationalgridus      3\n",
       "19    outagetracker    nationalgridus      3\n",
       "20  NGPowerofAction    NationalGridUS      3\n",
       "21          PEMA591    nationalgridus      3\n",
       "22         AmaSan25    nationalgridus      3\n",
       "23   HarderServices          LIPAnews      3\n",
       "24     smartwattinc    nationalgridus      2\n",
       "25  joeandruzzifndn          Patriots      2\n",
       "26       HeartShare    nationalgridus      2\n",
       "27   nationalgridus        EnergyStar      2\n",
       "28     EversourceNH              psnh      1\n",
       "29      BillericaPD    nationalgridus      1\n",
       "30     ToSaveEnergy    nationalgridus     -4\n",
       "31       Andruzzi63   joeandruzzifndn     -7\n",
       "32          lowfoot  lowfootSmartGrid     -8\n",
       "33        Jackie500    nationalgridus     -8\n",
       "34   nationalgridus    nationalgridus     -9\n",
       "35          lowfoot    nationalgridus     -9\n",
       "36   nationalgridus            ENERGY    -11\n",
       "37   nationalgridus        HeartShare    -13\n",
       "38   nationalgridus        ENERGYSTAR    -16\n",
       "39   nationalgridus          CityYear    -19\n",
       "40    national_grid    nationalgriduk    -23\n",
       "41   nationalgridus      ToSaveEnergy    -25\n",
       "42       Andruzzi63    nationalgridus    -26\n",
       "43    national_grid   NGPowerofAction    -27\n",
       "44    national_grid    nationalgridus    -27\n",
       "45  joeandruzzifndn    nationalgridus    -32\n",
       "46  NGPowerofAction    nationalgridus   -108"
      ]
     },
     "execution_count": 76,
     "metadata": {},
     "output_type": "execute_result"
    }
   ],
   "source": [
    "df"
   ]
  },
  {
   "cell_type": "code",
   "execution_count": 77,
   "metadata": {},
   "outputs": [],
   "source": [
    "# to assign different colors to different bins, we created 4 bins.\n",
    "# The darkest is for the most frequent edge and lighter means less traffic.\n",
    "deg1, deg2, deg3, deg4 = '#8B4513', '#A0522D', '#CD853F', '#DEB887'\n",
    "edge_attrs = {}"
   ]
  },
  {
   "cell_type": "code",
   "execution_count": 78,
   "metadata": {},
   "outputs": [
    {
     "data": {
      "text/plain": [
       "{}"
      ]
     },
     "execution_count": 78,
     "metadata": {},
     "output_type": "execute_result"
    }
   ],
   "source": [
    "edge_attrs"
   ]
  },
  {
   "cell_type": "code",
   "execution_count": 79,
   "metadata": {},
   "outputs": [],
   "source": [
    "for start_node, end_node, _ in G.edges(data=True):\n",
    "    \n",
    "    # created a mask for data frame. Essential to filter out the rows we need.\n",
    "    mask = int(final_net[(final_net['from'] == start_node) & (final_net['to'] == end_node)]['count'])\n",
    "\n",
    "    # Assigned corresponding colors to each one of the nodes\n",
    "    if int(mask) == 5 :\n",
    "        edge_color = deg1\n",
    "    elif (int(mask) == 4):\n",
    "        edge_color = deg2\n",
    "    elif (int(mask) == 3):\n",
    "        edge_color = deg3\n",
    "    else: \n",
    "        edge_color = deg4\n",
    "    \n",
    "    edge_attrs[(start_node, end_node)] = edge_color # assign the colors to the nodes."
   ]
  },
  {
   "cell_type": "code",
   "execution_count": 80,
   "metadata": {},
   "outputs": [],
   "source": [
    "nx.set_edge_attributes(G, edge_attrs, \"edge_color\")"
   ]
  },
  {
   "cell_type": "markdown",
   "metadata": {},
   "source": [
    " - bipartite_layout(G, nodes[, align, scale, …])\n",
    " - circular_layout(G[, scale, center, dim])\n",
    " - kamada_kawai_layout(G[, dist, pos, weight, …])\n",
    " - random_layout(G[, center, dim, seed])\n",
    " - rescale_layout(pos[, scale])\n",
    " - shell_layout(G[, nlist, scale, center, dim])\n",
    " - spring_layout(G[, k, pos, fixed, …])\n",
    " - spectral_layout(G[, weight, scale, center, dim])"
   ]
  },
  {
   "cell_type": "code",
   "execution_count": 81,
   "metadata": {},
   "outputs": [],
   "source": [
    "# Show with Bokeh\n",
    "plot = Plot(plot_width=400, plot_height=400,\n",
    "            x_range=Range1d(-1.1, 1.1), y_range=Range1d(-1.1, 1.1))\n",
    "plot.title.text = \"Graph Interaction Demonstration\"\n",
    "\n",
    "node_hover_tool = HoverTool(tooltips=[(\"Node\", \"@index\")])\n",
    "plot.add_tools(node_hover_tool, BoxZoomTool(), ResetTool())\n",
    "\n",
    "# Listed all the necessary layout options that might match our visual preferences: \n",
    "# graph_renderer = from_networkx(G, nx.circular_layout, scale=1, center=(0, 0))\n",
    "# graph_renderer = from_networkx(G, nx.random_layout, center = (-0.5,-0.5))\n",
    "graph_renderer = from_networkx(G, nx.shell_layout,  center=(0, 0))\n",
    "# graph_renderer = from_networkx(G, nx.spring_layout, scale=1, center=(0, 0))\n",
    "\n",
    "graph_renderer.node_renderer.glyph = Circle(size=15, fill_color=Spectral4[0])\n",
    "graph_renderer.edge_renderer.glyph = MultiLine(line_color=\"edge_color\", line_alpha=0.8, line_width=2)\n",
    "plot.renderers.append(graph_renderer)\n",
    "\n",
    "output_file(\"interactive_graphs.html\")\n",
    "show(plot)"
   ]
  },
  {
   "cell_type": "code",
   "execution_count": null,
   "metadata": {},
   "outputs": [],
   "source": []
  }
 ],
 "metadata": {
  "kernelspec": {
   "display_name": "Python 3",
   "language": "python",
   "name": "python3"
  },
  "language_info": {
   "codemirror_mode": {
    "name": "ipython",
    "version": 3
   },
   "file_extension": ".py",
   "mimetype": "text/x-python",
   "name": "python",
   "nbconvert_exporter": "python",
   "pygments_lexer": "ipython3",
   "version": "3.6.6"
  }
 },
 "nbformat": 4,
 "nbformat_minor": 1
}
