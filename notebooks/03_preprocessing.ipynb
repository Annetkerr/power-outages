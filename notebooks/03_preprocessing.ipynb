{
 "cells": [
  {
   "cell_type": "markdown",
   "metadata": {},
   "source": [
    "# Preprocessing\n",
    "> Author: [Dawn Graham](https://dawngraham.github.io/)\n",
    "\n",
    "Quick clean of `monthlytweets.csv`.\n",
    "\n",
    "Versions used:\n",
    "- Python 3.6.6\n",
    "- pandas 0.23.4"
   ]
  },
  {
   "cell_type": "markdown",
   "metadata": {},
   "source": [
    "### Import libraries"
   ]
  },
  {
   "cell_type": "code",
   "execution_count": 1,
   "metadata": {},
   "outputs": [],
   "source": [
    "import pandas as pd"
   ]
  },
  {
   "cell_type": "markdown",
   "metadata": {},
   "source": [
    "### Read in data"
   ]
  },
  {
   "cell_type": "code",
   "execution_count": 2,
   "metadata": {},
   "outputs": [],
   "source": [
    "tweets = pd.read_csv('../data/raw-data/monthlytweets.csv')"
   ]
  },
  {
   "cell_type": "markdown",
   "metadata": {},
   "source": [
    "### Initial cleaning"
   ]
  },
  {
   "cell_type": "code",
   "execution_count": 3,
   "metadata": {},
   "outputs": [
    {
     "name": "stdout",
     "output_type": "stream",
     "text": [
      "Total: 20163\n",
      "Unique: 20163\n"
     ]
    }
   ],
   "source": [
    "# Drop duplicates\n",
    "tweets.drop_duplicates(inplace=True)\n",
    "print(f\"Total: {tweets.shape[0]}\")\n",
    "print(f\"Unique: {tweets['id'].nunique()}\")"
   ]
  },
  {
   "cell_type": "code",
   "execution_count": 4,
   "metadata": {},
   "outputs": [
    {
     "data": {
      "text/plain": [
       "['timestamp', 'http://bit.ly/yTIrUE\\xa0', '2012-12-31 22:22:25']"
      ]
     },
     "execution_count": 4,
     "metadata": {},
     "output_type": "execute_result"
    }
   ],
   "source": [
    "sorted(tweets['timestamp'].unique(), reverse=True)[:3]"
   ]
  },
  {
   "cell_type": "code",
   "execution_count": 5,
   "metadata": {},
   "outputs": [
    {
     "data": {
      "text/html": [
       "<div>\n",
       "<style scoped>\n",
       "    .dataframe tbody tr th:only-of-type {\n",
       "        vertical-align: middle;\n",
       "    }\n",
       "\n",
       "    .dataframe tbody tr th {\n",
       "        vertical-align: top;\n",
       "    }\n",
       "\n",
       "    .dataframe thead th {\n",
       "        text-align: right;\n",
       "    }\n",
       "</style>\n",
       "<table border=\"1\" class=\"dataframe\">\n",
       "  <thead>\n",
       "    <tr style=\"text-align: right;\">\n",
       "      <th></th>\n",
       "      <th>timestamp</th>\n",
       "      <th>id</th>\n",
       "      <th>text</th>\n",
       "      <th>user</th>\n",
       "      <th>likes</th>\n",
       "      <th>replies</th>\n",
       "      <th>retweets</th>\n",
       "      <th>query</th>\n",
       "    </tr>\n",
       "  </thead>\n",
       "  <tbody>\n",
       "    <tr>\n",
       "      <th>7454</th>\n",
       "      <td>http://bit.ly/yTIrUE</td>\n",
       "      <td>Noesis_Now</td>\n",
       "      <td>0</td>\n",
       "      <td>0</td>\n",
       "      <td>0</td>\n",
       "      <td>EversourceMA OR EversourceNH OR VelcoVT OR nat...</td>\n",
       "      <td>NaN</td>\n",
       "      <td>NaN</td>\n",
       "    </tr>\n",
       "  </tbody>\n",
       "</table>\n",
       "</div>"
      ],
      "text/plain": [
       "                  timestamp          id text user likes  \\\n",
       "7454  http://bit.ly/yTIrUE   Noesis_Now    0    0     0   \n",
       "\n",
       "                                                replies retweets query  \n",
       "7454  EversourceMA OR EversourceNH OR VelcoVT OR nat...      NaN   NaN  "
      ]
     },
     "execution_count": 5,
     "metadata": {},
     "output_type": "execute_result"
    }
   ],
   "source": [
    "# # Get number of observations containing word\n",
    "tweets[tweets['timestamp'].str.contains('http://bit.ly/yTIrUE\\xa0', case=False, regex=True)]"
   ]
  },
  {
   "cell_type": "code",
   "execution_count": 6,
   "metadata": {},
   "outputs": [],
   "source": [
    "# Drop row 7454\n",
    "tweets.drop(tweets.index[7454], inplace=True)\n",
    "\n",
    "# Drop rows where timestamp == timestamp\n",
    "tweets = tweets[tweets['timestamp'] != 'timestamp']\n",
    "\n",
    "#Drop rows where query is null\n",
    "tweets = tweets[tweets['query'].isnull() != True]"
   ]
  },
  {
   "cell_type": "markdown",
   "metadata": {},
   "source": [
    "### Check shape & types"
   ]
  },
  {
   "cell_type": "code",
   "execution_count": 7,
   "metadata": {},
   "outputs": [
    {
     "data": {
      "text/plain": [
       "(20160, 8)"
      ]
     },
     "execution_count": 7,
     "metadata": {},
     "output_type": "execute_result"
    }
   ],
   "source": [
    "tweets.shape"
   ]
  },
  {
   "cell_type": "code",
   "execution_count": 8,
   "metadata": {},
   "outputs": [
    {
     "data": {
      "text/plain": [
       "timestamp    object\n",
       "id           object\n",
       "text         object\n",
       "user         object\n",
       "likes        object\n",
       "replies      object\n",
       "retweets     object\n",
       "query        object\n",
       "dtype: object"
      ]
     },
     "execution_count": 8,
     "metadata": {},
     "output_type": "execute_result"
    }
   ],
   "source": [
    "tweets.dtypes"
   ]
  },
  {
   "cell_type": "code",
   "execution_count": 9,
   "metadata": {},
   "outputs": [
    {
     "data": {
      "text/plain": [
       "timestamp    0\n",
       "id           0\n",
       "text         0\n",
       "user         0\n",
       "likes        0\n",
       "replies      0\n",
       "retweets     0\n",
       "query        0\n",
       "dtype: int64"
      ]
     },
     "execution_count": 9,
     "metadata": {},
     "output_type": "execute_result"
    }
   ],
   "source": [
    "tweets.isnull().sum()"
   ]
  },
  {
   "cell_type": "markdown",
   "metadata": {},
   "source": [
    "### Change to timeseries"
   ]
  },
  {
   "cell_type": "code",
   "execution_count": 10,
   "metadata": {},
   "outputs": [
    {
     "data": {
      "text/html": [
       "<div>\n",
       "<style scoped>\n",
       "    .dataframe tbody tr th:only-of-type {\n",
       "        vertical-align: middle;\n",
       "    }\n",
       "\n",
       "    .dataframe tbody tr th {\n",
       "        vertical-align: top;\n",
       "    }\n",
       "\n",
       "    .dataframe thead th {\n",
       "        text-align: right;\n",
       "    }\n",
       "</style>\n",
       "<table border=\"1\" class=\"dataframe\">\n",
       "  <thead>\n",
       "    <tr style=\"text-align: right;\">\n",
       "      <th></th>\n",
       "      <th>id</th>\n",
       "      <th>text</th>\n",
       "      <th>user</th>\n",
       "      <th>likes</th>\n",
       "      <th>replies</th>\n",
       "      <th>retweets</th>\n",
       "      <th>query</th>\n",
       "    </tr>\n",
       "    <tr>\n",
       "      <th>timestamp</th>\n",
       "      <th></th>\n",
       "      <th></th>\n",
       "      <th></th>\n",
       "      <th></th>\n",
       "      <th></th>\n",
       "      <th></th>\n",
       "      <th></th>\n",
       "    </tr>\n",
       "  </thead>\n",
       "  <tbody>\n",
       "    <tr>\n",
       "      <th>2012-11-01 23:50:22</th>\n",
       "      <td>264152432282578945</td>\n",
       "      <td>Tom May, CEO of Northeast Utilities, the paren...</td>\n",
       "      <td>EversourceMA</td>\n",
       "      <td>1</td>\n",
       "      <td>1</td>\n",
       "      <td>3</td>\n",
       "      <td>EversourceMA OR EversourceNH OR VelcoVT OR nat...</td>\n",
       "    </tr>\n",
       "    <tr>\n",
       "      <th>2012-11-01 23:45:13</th>\n",
       "      <td>264151136792109056</td>\n",
       "      <td>@NYGovCuomo @lipanews @nationalgridus @nyseand...</td>\n",
       "      <td>readyforthenet</td>\n",
       "      <td>0</td>\n",
       "      <td>0</td>\n",
       "      <td>0</td>\n",
       "      <td>EversourceMA OR EversourceNH OR VelcoVT OR nat...</td>\n",
       "    </tr>\n",
       "    <tr>\n",
       "      <th>2012-11-01 23:34:44</th>\n",
       "      <td>264148498352590849</td>\n",
       "      <td>Some amazing video from the Wareham microburst...</td>\n",
       "      <td>EversourceMA</td>\n",
       "      <td>1</td>\n",
       "      <td>0</td>\n",
       "      <td>1</td>\n",
       "      <td>EversourceMA OR EversourceNH OR VelcoVT OR nat...</td>\n",
       "    </tr>\n",
       "    <tr>\n",
       "      <th>2012-11-01 23:34:20</th>\n",
       "      <td>264148399190851584</td>\n",
       "      <td>@nationalgridus Call me if you need some help ...</td>\n",
       "      <td>sparky1000</td>\n",
       "      <td>0</td>\n",
       "      <td>0</td>\n",
       "      <td>0</td>\n",
       "      <td>EversourceMA OR EversourceNH OR VelcoVT OR nat...</td>\n",
       "    </tr>\n",
       "    <tr>\n",
       "      <th>2012-11-01 23:31:56</th>\n",
       "      <td>264147793147490304</td>\n",
       "      <td>Current PSNH statewide w/o power: 885. We're d...</td>\n",
       "      <td>EversourceNH</td>\n",
       "      <td>0</td>\n",
       "      <td>1</td>\n",
       "      <td>8</td>\n",
       "      <td>EversourceMA OR EversourceNH OR VelcoVT OR nat...</td>\n",
       "    </tr>\n",
       "  </tbody>\n",
       "</table>\n",
       "</div>"
      ],
      "text/plain": [
       "                                     id  \\\n",
       "timestamp                                 \n",
       "2012-11-01 23:50:22  264152432282578945   \n",
       "2012-11-01 23:45:13  264151136792109056   \n",
       "2012-11-01 23:34:44  264148498352590849   \n",
       "2012-11-01 23:34:20  264148399190851584   \n",
       "2012-11-01 23:31:56  264147793147490304   \n",
       "\n",
       "                                                                  text  \\\n",
       "timestamp                                                                \n",
       "2012-11-01 23:50:22  Tom May, CEO of Northeast Utilities, the paren...   \n",
       "2012-11-01 23:45:13  @NYGovCuomo @lipanews @nationalgridus @nyseand...   \n",
       "2012-11-01 23:34:44  Some amazing video from the Wareham microburst...   \n",
       "2012-11-01 23:34:20  @nationalgridus Call me if you need some help ...   \n",
       "2012-11-01 23:31:56  Current PSNH statewide w/o power: 885. We're d...   \n",
       "\n",
       "                               user likes replies retweets  \\\n",
       "timestamp                                                    \n",
       "2012-11-01 23:50:22    EversourceMA     1       1        3   \n",
       "2012-11-01 23:45:13  readyforthenet     0       0        0   \n",
       "2012-11-01 23:34:44    EversourceMA     1       0        1   \n",
       "2012-11-01 23:34:20      sparky1000     0       0        0   \n",
       "2012-11-01 23:31:56    EversourceNH     0       1        8   \n",
       "\n",
       "                                                                 query  \n",
       "timestamp                                                               \n",
       "2012-11-01 23:50:22  EversourceMA OR EversourceNH OR VelcoVT OR nat...  \n",
       "2012-11-01 23:45:13  EversourceMA OR EversourceNH OR VelcoVT OR nat...  \n",
       "2012-11-01 23:34:44  EversourceMA OR EversourceNH OR VelcoVT OR nat...  \n",
       "2012-11-01 23:34:20  EversourceMA OR EversourceNH OR VelcoVT OR nat...  \n",
       "2012-11-01 23:31:56  EversourceMA OR EversourceNH OR VelcoVT OR nat...  "
      ]
     },
     "execution_count": 10,
     "metadata": {},
     "output_type": "execute_result"
    }
   ],
   "source": [
    "# Set `timestamp` to datetime and set it to index\n",
    "tweets['timestamp'] = pd.to_datetime(tweets['timestamp'])\n",
    "tweets.set_index('timestamp', inplace=True)\n",
    "tweets.head()"
   ]
  },
  {
   "cell_type": "markdown",
   "metadata": {},
   "source": [
    "### Export as `monthlytweets_cleaned.csv`"
   ]
  },
  {
   "cell_type": "code",
   "execution_count": 11,
   "metadata": {},
   "outputs": [],
   "source": [
    "tweets.to_csv('../data/monthlytweets_cleaned.csv', index=True)"
   ]
  }
 ],
 "metadata": {
  "kernelspec": {
   "display_name": "Python 3",
   "language": "python",
   "name": "python3"
  },
  "language_info": {
   "codemirror_mode": {
    "name": "ipython",
    "version": 3
   },
   "file_extension": ".py",
   "mimetype": "text/x-python",
   "name": "python",
   "nbconvert_exporter": "python",
   "pygments_lexer": "ipython3",
   "version": "3.6.6"
  }
 },
 "nbformat": 4,
 "nbformat_minor": 2
}
